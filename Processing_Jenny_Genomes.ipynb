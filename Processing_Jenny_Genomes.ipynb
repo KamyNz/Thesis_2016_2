{
 "cells": [
  {
   "cell_type": "code",
   "execution_count": 1,
   "metadata": {
    "collapsed": true
   },
   "outputs": [],
   "source": [
    "import os\n",
    "import sys\n",
    "\n",
    "#from Utils import Processing_files_fron_folder, Getting_genbank_files_names\n",
    "import itertools\n",
    "from Utils import *\n",
    "\n",
    "#importing BIO\n",
    "\n",
    "from Bio import SeqIO\n",
    "from Bio.SeqRecord import SeqRecord"
   ]
  },
  {
   "cell_type": "code",
   "execution_count": 2,
   "metadata": {
    "collapsed": false
   },
   "outputs": [
    {
     "name": "stdout",
     "output_type": "stream",
     "text": [
      "/Users/CamilaMV/Downloads/Genomas_colores/\n"
     ]
    }
   ],
   "source": [
    "pathNameFolderJenny = \"/Users/CamilaMV/Downloads/Genomas_colores/\"\n",
    "\n",
    "# DEBERIA HACERSE QUE EL SCRIPT DE PYTHON PREGUNTE POR EL FOLDER DONDE ESTAN LOS GENOMAS\n",
    "print pathNameFolderJenny"
   ]
  },
  {
   "cell_type": "code",
   "execution_count": 3,
   "metadata": {
    "collapsed": false
   },
   "outputs": [
    {
     "data": {
      "text/plain": [
       "'.DS_Store'"
      ]
     },
     "execution_count": 3,
     "metadata": {},
     "output_type": "execute_result"
    }
   ],
   "source": [
    "file_list = []\n",
    "for (files) in os.walk(pathNameFolderJenny):\n",
    "        file_list.append(files)\n",
    "\n",
    "fasta_files = file_list[0][2]\n",
    "index_to_remove = fasta_files.index(\".DS_Store\")\n",
    "\n",
    "fasta_files.pop(index_to_remove)"
   ]
  },
  {
   "cell_type": "code",
   "execution_count": 4,
   "metadata": {
    "collapsed": false
   },
   "outputs": [
    {
     "data": {
      "text/plain": [
       "['2362_nt.fasta',\n",
       " 'B1-CDA_nt.fasta',\n",
       " 'C3-41_nt.fasta',\n",
       " 'CBAM5_nt.fasta',\n",
       " 'III37_nt.fasta',\n",
       " 'Ot4b.25_nt.fasta',\n",
       " 'Ot4b.31_nt.fasta',\n",
       " 'Ot4b.49_nt.fasta',\n",
       " 'RB-21.fasta',\n",
       " 'Silvestris.fasta']"
      ]
     },
     "execution_count": 4,
     "metadata": {},
     "output_type": "execute_result"
    }
   ],
   "source": [
    "fasta_files"
   ]
  },
  {
   "cell_type": "markdown",
   "metadata": {},
   "source": [
    "# Getting length"
   ]
  },
  {
   "cell_type": "raw",
   "metadata": {},
   "source": [
    "\"\"\"\n",
    "899709-1918850 --> OT4b49\n",
    "\n",
    "2706035-2734610  --> OT4b25\n",
    "\n",
    "3104179-3123026 --> C3-41\n",
    "\n",
    "1762979-1781778 --> 2362\n",
    "\n",
    "\"\"\""
   ]
  },
  {
   "cell_type": "code",
   "execution_count": 6,
   "metadata": {
    "collapsed": false
   },
   "outputs": [
    {
     "name": "stdout",
     "output_type": "stream",
     "text": [
      "4692801\n",
      "4670225\n",
      "4639821\n",
      "5397908\n",
      "4663526\n",
      "4665575\n",
      "5179983\n",
      "4678842\n",
      "4843789\n",
      "3991226\n"
     ]
    }
   ],
   "source": [
    "for fasta in fasta_files:\n",
    "    \n",
    "    tempFasta = Parsing_fasta(pathNameFolderJenny + fasta)\n",
    "    \n",
    "    for f in tempFasta:\n",
    "        \n",
    "        #Filling length list\n",
    "        print len(f.seq)\n",
    "        # Printing length and description"
   ]
  },
  {
   "cell_type": "code",
   "execution_count": 90,
   "metadata": {
    "collapsed": false
   },
   "outputs": [
    {
     "name": "stdout",
     "output_type": "stream",
     "text": [
      "LS|NZ_CP015224.1 id  LS|NZ_CP015224.1\n",
      "gi|936619489|gb|LJYY01000049.1| Lysinibacillus sphaericus strain B1-CDA whole genome shotgun sequence id  gi|936619489|gb|LJYY01000049.1|\n",
      "LS|CP000817.1 id  LS|CP000817.1\n",
      "gi|584608068|gb|AYKQ01000007.1| Lysinibacillus sphaericus CBAM5 contig_12, whole genome shotgun sequence id  gi|584608068|gb|AYKQ01000007.1|\n",
      "LS|NZ_CP014856.1 id  LS|NZ_CP014856.1\n",
      "LS|NZ_CP014643.1 id  LS|NZ_CP014643.1\n",
      "gi|496194147|gb|AQPX01000011.1| Lysinibacillus sphaericus OT4b.31 contig_11, whole genome shotgun sequence id  gi|496194147|gb|AQPX01000011.1|\n",
      "gi|1020309576|gb|LWHI01000001.1| Lysinibacillus sphaericus strain OT4b49 id  gi|1020309576|gb|LWHI01000001.1|\n",
      "gi|756118028|gb|CP010820.1| Lysinibacillus fusiformis strain RB-21, complete genome id  gi|756118028|gb|CP010820.1|\n",
      "gi|1004384977|gb|CP014609.1| Solibacillus silvestris strain DSM 12223, complete genome id  gi|1004384977|gb|CP014609.1|\n"
     ]
    }
   ],
   "source": [
    "# Processing fasta files in using function Parsing Fasta\n",
    "\n",
    "length_fasta_files = list()\n",
    "for fasta in fasta_files:\n",
    "    \n",
    "    tempFasta = Parsing_fasta(pathNameFolderJenny + fasta)\n",
    "    \n",
    "    for f in tempFasta:\n",
    "        \n",
    "        #Filling length list\n",
    "        length_fasta_files.append(len(f.seq))\n",
    "        # Printing length and description\n",
    "        print f.description , \"id \" , f.id\n",
    "        \n",
    "        if(f.id == \"gi|1020309576|gb|LWHI01000001.1|\"):\n",
    "            seq1 = f.seq[899709:1918850]\n",
    "            \n",
    "        elif(f.id == \"LS|NZ_CP014643.1\"):\n",
    "             seq2 = f.seq[2706035:2734610]\n",
    "        \n",
    "        elif(f.id ==\"LS|CP000817.1\"):\n",
    "            seq3 = f.seq[3104179:3123026]\n",
    "            \n",
    "        elif(f.id == \"LS|NZ_CP015224.1\"):\n",
    "            seq4 = f.seq[1762979:1781778]"
   ]
  },
  {
   "cell_type": "code",
   "execution_count": 92,
   "metadata": {
    "collapsed": false
   },
   "outputs": [
    {
     "name": "stdout",
     "output_type": "stream",
     "text": [
      "[4692801, 4670225, 4639821, 5397908, 4663526, 4665575, 5179983, 4678842, 4843789, 3991226]\n"
     ]
    }
   ],
   "source": [
    "print length_fasta_files"
   ]
  },
  {
   "cell_type": "code",
   "execution_count": 91,
   "metadata": {
    "collapsed": true
   },
   "outputs": [],
   "source": [
    "dict_fasta_files_Jenny = {}\n",
    "\n",
    "dict_fasta_files_Jenny[\"OT4b49\"] = seq1\n",
    "dict_fasta_files_Jenny[\"OT4b25\"] = seq2\n",
    "dict_fasta_files_Jenny[\"C3-41\"] = seq3\n",
    "dict_fasta_files_Jenny[\"2362\"] = seq4"
   ]
  },
  {
   "cell_type": "code",
   "execution_count": 93,
   "metadata": {
    "collapsed": false
   },
   "outputs": [
    {
     "name": "stdout",
     "output_type": "stream",
     "text": [
      "{'C3-41': Seq('TATAAAATGCAATTGCATTGGTATTGAACTCCCAAACATTTGTTCTTAGCGATA...CAA', SingleLetterAlphabet()), 'OT4b49': Seq('aggccgttggttttcattacggaaggggtctagccgcatctcttgctctttccg...tct', SingleLetterAlphabet()), '2362': Seq('AATAATCAGCTTCTAGTTGAGCTGATTGAATAAGATGGATAGGAACACGTTTTA...TCT', SingleLetterAlphabet()), 'OT4b25': Seq('TGGGTAAACTAACCAAAATAGAGCGTATGAGACAAGCTGCTAGTGATGCTCGTT...TAA', SingleLetterAlphabet())}\n"
     ]
    }
   ],
   "source": [
    "print dict_fasta_files_Jenny"
   ]
  },
  {
   "cell_type": "code",
   "execution_count": null,
   "metadata": {
    "collapsed": true
   },
   "outputs": [],
   "source": [
    "# Getting fragment where position is according to fragmentation\n",
    "\n",
    "\n",
    "# using NcbiblastnCommandline\n",
    "        blastn_cline2 = NcbiblastnCommandline(query= finalPath, \n",
    "                                         subject = fastaPath, \n",
    "                                         outfmt = 6, max_hsps = 2)()[0]"
   ]
  },
  {
   "cell_type": "code",
   "execution_count": 108,
   "metadata": {
    "collapsed": true
   },
   "outputs": [],
   "source": [
    "outPath = \"/Users/CamilaMV/Downloads/Genomas_colores/Focused_Seqs/\""
   ]
  },
  {
   "cell_type": "code",
   "execution_count": 114,
   "metadata": {
    "collapsed": false
   },
   "outputs": [
    {
     "data": {
      "text/plain": [
       "1"
      ]
     },
     "execution_count": 114,
     "metadata": {},
     "output_type": "execute_result"
    }
   ],
   "source": [
    "# Making files of focused seqs\n",
    "record = SeqRecord(seq4, \"2362\")\n",
    "\n",
    "output_handle = open(outPath+\"Seq4\", \"w\")\n",
    "SeqIO.write(record,output_handle,\"fasta\")"
   ]
  },
  {
   "cell_type": "code",
   "execution_count": 119,
   "metadata": {
    "collapsed": false
   },
   "outputs": [
    {
     "data": {
      "text/plain": [
       "'.DS_Store'"
      ]
     },
     "execution_count": 119,
     "metadata": {},
     "output_type": "execute_result"
    }
   ],
   "source": [
    "file_list_focused = []\n",
    "for (files) in os.walk(outPath):\n",
    "        file_list_focused.append(files)\n",
    "\n",
    "fasta_files_focused = file_list_focused[0][2]\n",
    "index_to_remove = fasta_files_focused.index(\".DS_Store\")\n",
    "fasta_files_focused.pop(index_to_remove)"
   ]
  },
  {
   "cell_type": "code",
   "execution_count": 188,
   "metadata": {
    "collapsed": false
   },
   "outputs": [],
   "source": [
    "# getting list of fragmented genomes\n",
    "\n",
    "list_anems_fragmented = ['Ot4b.49_nt.split.3Kmer.1Koverlap.f_rename',\n",
    "                        'Ot4b.25_nt.split.3Kmer.1Koverlap.f_rename',\n",
    "                        'C3-41_nt.split.3Kmer.1Koverlap.f_rename',\n",
    "                        '2362_nt.split.3Kmer.1Koverlap.f_rename']\n"
   ]
  },
  {
   "cell_type": "code",
   "execution_count": 189,
   "metadata": {
    "collapsed": true
   },
   "outputs": [],
   "source": [
    "pathFragmentedJenny = \"/Users/CamilaMV/Downloads/Genomas_colores/Genos_3000_1000/\""
   ]
  },
  {
   "cell_type": "code",
   "execution_count": 190,
   "metadata": {
    "collapsed": false
   },
   "outputs": [],
   "source": [
    "dict_blast_split_lines_Jenny = {}\n",
    "\n",
    "for seq, seq_frag in itertools.izip(fasta_files_focused,list_anems_fragmented):\n",
    "    \n",
    "    queryFinal = outPath + seq\n",
    "    subjectFinal = pathFragmentedJenny + seq_frag\n",
    "    \n",
    "    #print queryFinal, subjectFinal\n",
    "    \n",
    "    \n",
    "    # using NcbiblastnCommandline\n",
    "    blastn_cline2 = NcbiblastnCommandline(query= queryFinal, \n",
    "                                         subject = subjectFinal, \n",
    "                                         outfmt = 6, max_hsps = 1)()[0]\n",
    "    \n",
    "    blastn_cline2_split_lines = blastn_cline2.splitlines( )\n",
    "    \n",
    "    dict_blast_split_lines_Jenny[seq] = blastn_cline2_split_lines"
   ]
  },
  {
   "cell_type": "code",
   "execution_count": 191,
   "metadata": {
    "collapsed": true
   },
   "outputs": [],
   "source": [
    "#dict_blast_split_lines_Jenny"
   ]
  },
  {
   "cell_type": "code",
   "execution_count": 192,
   "metadata": {
    "collapsed": true
   },
   "outputs": [],
   "source": [
    "#final_dict_Jenny = using_making_map1_on_dict(dict_blast_split_lines_Jenny)"
   ]
  },
  {
   "cell_type": "code",
   "execution_count": 193,
   "metadata": {
    "collapsed": true
   },
   "outputs": [],
   "source": [
    "#final_dict_Jenny"
   ]
  },
  {
   "cell_type": "code",
   "execution_count": 194,
   "metadata": {
    "collapsed": true
   },
   "outputs": [],
   "source": [
    "# Doing individually"
   ]
  },
  {
   "cell_type": "code",
   "execution_count": 195,
   "metadata": {
    "collapsed": false
   },
   "outputs": [
    {
     "data": {
      "text/plain": [
       "['Seq3', 'Seq2', 'Seq1', 'Seq4']"
      ]
     },
     "execution_count": 195,
     "metadata": {},
     "output_type": "execute_result"
    }
   ],
   "source": [
    "final_dict_Jenny.keys()"
   ]
  },
  {
   "cell_type": "code",
   "execution_count": 196,
   "metadata": {
    "collapsed": false
   },
   "outputs": [
    {
     "data": {
      "text/plain": [
       "['Seq3', 'Seq2', 'Seq1', 'Seq4']"
      ]
     },
     "execution_count": 196,
     "metadata": {},
     "output_type": "execute_result"
    }
   ],
   "source": [
    "dict_blast_split_lines_Jenny.keys()"
   ]
  },
  {
   "cell_type": "code",
   "execution_count": 197,
   "metadata": {
    "collapsed": false
   },
   "outputs": [],
   "source": [
    "#dict_blast_split_lines_Jenny[\"Seq1\"]"
   ]
  },
  {
   "cell_type": "code",
   "execution_count": 206,
   "metadata": {
    "collapsed": false,
    "scrolled": true
   },
   "outputs": [],
   "source": [
    "#for line in dict_blast_split_lines_Jenny[\"Seq4\"]:\n",
    "\n",
    "#    print line.split(\"\\t\")"
   ]
  },
  {
   "cell_type": "code",
   "execution_count": 156,
   "metadata": {
    "collapsed": true
   },
   "outputs": [],
   "source": [
    "# Looking in what fragments is the sequences"
   ]
  },
  {
   "cell_type": "raw",
   "metadata": {},
   "source": [
    "\"\"\"\n",
    "899709-1918850 --> OT4b49\n",
    "\n",
    "2706035-2734610  --> OT4b25\n",
    "\n",
    "3104179-3123026 --> C3-41\n",
    "\n",
    "1762979-1781778 --> 2362\n",
    "\n",
    "\"\"\""
   ]
  },
  {
   "cell_type": "code",
   "execution_count": 157,
   "metadata": {
    "collapsed": false
   },
   "outputs": [
    {
     "data": {
      "text/plain": [
       "[4692801,\n",
       " 4670225,\n",
       " 4639821,\n",
       " 5397908,\n",
       " 4663526,\n",
       " 4665575,\n",
       " 5179983,\n",
       " 4678842,\n",
       " 4843789,\n",
       " 3991226]"
      ]
     },
     "execution_count": 157,
     "metadata": {},
     "output_type": "execute_result"
    }
   ],
   "source": [
    "length_fasta_files"
   ]
  },
  {
   "cell_type": "code",
   "execution_count": 220,
   "metadata": {
    "collapsed": false
   },
   "outputs": [],
   "source": [
    "list_begins = [1899709,2706035,3104179,1762979]\n",
    "list_ends = [1918850,2734610,3123026,1781778]"
   ]
  },
  {
   "cell_type": "code",
   "execution_count": 221,
   "metadata": {
    "collapsed": false,
    "scrolled": true
   },
   "outputs": [
    {
     "name": "stdout",
     "output_type": "stream",
     "text": [
      "949 959 10\n",
      "1353 1367 14\n",
      "1552 1561 9\n",
      "881 890 9\n"
     ]
    }
   ],
   "source": [
    "posi_begins = []\n",
    "posi_ends = []\n",
    "\n",
    "for begin, end in itertools.izip(list_begins,list_ends):\n",
    "    \n",
    "    pB = begin/2000\n",
    "    pE = end/2000\n",
    "    print pB, pE, (pE-pB)"
   ]
  },
  {
   "cell_type": "code",
   "execution_count": 222,
   "metadata": {
    "collapsed": false
   },
   "outputs": [
    {
     "data": {
      "text/plain": [
       "898"
      ]
     },
     "execution_count": 222,
     "metadata": {},
     "output_type": "execute_result"
    }
   ],
   "source": [
    "449*2"
   ]
  },
  {
   "cell_type": "code",
   "execution_count": 223,
   "metadata": {
    "collapsed": false
   },
   "outputs": [
    {
     "name": "stdout",
     "output_type": "stream",
     "text": [
      "1019141\n",
      "28575\n",
      "18847\n",
      "18799\n"
     ]
    }
   ],
   "source": [
    "print len(seq1)\n",
    "print len(seq2)\n",
    "print len(seq3)\n",
    "print len(seq4)"
   ]
  },
  {
   "cell_type": "code",
   "execution_count": 217,
   "metadata": {
    "collapsed": false
   },
   "outputs": [
    {
     "data": {
      "text/plain": [
       "513859"
      ]
     },
     "execution_count": 217,
     "metadata": {},
     "output_type": "execute_result"
    }
   ],
   "source": [
    "1533000-len(seq1)"
   ]
  },
  {
   "cell_type": "code",
   "execution_count": 218,
   "metadata": {
    "collapsed": false
   },
   "outputs": [
    {
     "data": {
      "text/plain": [
       "171"
      ]
     },
     "execution_count": 218,
     "metadata": {},
     "output_type": "execute_result"
    }
   ],
   "source": [
    "513859/3000"
   ]
  },
  {
   "cell_type": "code",
   "execution_count": 245,
   "metadata": {
    "collapsed": true
   },
   "outputs": [],
   "source": [
    "import matplotlib.colors as colors\n",
    "import math\n",
    "import numpy as np"
   ]
  },
  {
   "cell_type": "code",
   "execution_count": 239,
   "metadata": {
    "collapsed": false
   },
   "outputs": [
    {
     "name": "stdout",
     "output_type": "stream",
     "text": [
      "[0.7176470588235294, 0.6941176470588235, 0.5490196078431373]\n"
     ]
    }
   ],
   "source": [
    "c1 = list(colors.hex2color('#B7B18C'))\n",
    "print c1"
   ]
  },
  {
   "cell_type": "code",
   "execution_count": 240,
   "metadata": {
    "collapsed": false
   },
   "outputs": [
    {
     "name": "stdout",
     "output_type": "stream",
     "text": [
      "[0.7254901960784313, 0.6862745098039216, 0.5568627450980392]\n"
     ]
    }
   ],
   "source": [
    "c2 = list(colors.hex2color('#B9AF8E'))\n",
    "print c2"
   ]
  },
  {
   "cell_type": "code",
   "execution_count": 249,
   "metadata": {
    "collapsed": false
   },
   "outputs": [],
   "source": [
    "meanTest = list()\n",
    "for seq1, seq2 in itertools.izip(c1,c2):\n",
    "    \n",
    "    #print seq1-seq2\n",
    "    \n",
    "    meanTest.append(abs(seq1-seq2))\n",
    "    \n",
    "    #print \"\\n\"\n",
    "    \n",
    "    #print abs(seq1-seq2)"
   ]
  },
  {
   "cell_type": "code",
   "execution_count": 250,
   "metadata": {
    "collapsed": false
   },
   "outputs": [
    {
     "data": {
      "text/plain": [
       "0.0078431372549019329"
      ]
     },
     "execution_count": 250,
     "metadata": {},
     "output_type": "execute_result"
    }
   ],
   "source": [
    "np.mean(meanTest)"
   ]
  },
  {
   "cell_type": "code",
   "execution_count": 251,
   "metadata": {
    "collapsed": false
   },
   "outputs": [
    {
     "data": {
      "text/plain": [
       "1365"
      ]
     },
     "execution_count": 251,
     "metadata": {},
     "output_type": "execute_result"
    }
   ],
   "source": [
    "2731/2"
   ]
  },
  {
   "cell_type": "code",
   "execution_count": 252,
   "metadata": {
    "collapsed": false
   },
   "outputs": [
    {
     "data": {
      "text/plain": [
       "2706"
      ]
     },
     "execution_count": 252,
     "metadata": {},
     "output_type": "execute_result"
    }
   ],
   "source": [
    "1353*2"
   ]
  },
  {
   "cell_type": "code",
   "execution_count": 253,
   "metadata": {
    "collapsed": false
   },
   "outputs": [
    {
     "data": {
      "text/plain": [
       "2734"
      ]
     },
     "execution_count": 253,
     "metadata": {},
     "output_type": "execute_result"
    }
   ],
   "source": [
    "1367*2"
   ]
  },
  {
   "cell_type": "code",
   "execution_count": null,
   "metadata": {
    "collapsed": true
   },
   "outputs": [],
   "source": []
  }
 ],
 "metadata": {
  "kernelspec": {
   "display_name": "Python 2",
   "language": "python",
   "name": "python2"
  },
  "language_info": {
   "codemirror_mode": {
    "name": "ipython",
    "version": 2
   },
   "file_extension": ".py",
   "mimetype": "text/x-python",
   "name": "python",
   "nbconvert_exporter": "python",
   "pygments_lexer": "ipython2",
   "version": "2.7.11"
  }
 },
 "nbformat": 4,
 "nbformat_minor": 0
}
