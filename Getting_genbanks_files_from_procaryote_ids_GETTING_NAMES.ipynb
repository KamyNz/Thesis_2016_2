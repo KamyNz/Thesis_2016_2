{
 "cells": [
  {
   "cell_type": "code",
   "execution_count": 10,
   "metadata": {
    "collapsed": false
   },
   "outputs": [],
   "source": [
    "import os\n",
    "import sys\n",
    "\n",
    "#from Utils import Processing_files_fron_folder, Getting_genbank_files_names\n",
    "import itertools\n",
    "from Utils import *\n",
    "\n",
    "import re"
   ]
  },
  {
   "cell_type": "code",
   "execution_count": 11,
   "metadata": {
    "collapsed": true
   },
   "outputs": [],
   "source": [
    "from Bio import Entrez\n",
    "from Bio import SeqIO\n",
    "Entrez.email = 'kamynz16@gmail.com'\n"
   ]
  },
  {
   "cell_type": "code",
   "execution_count": 12,
   "metadata": {
    "collapsed": true
   },
   "outputs": [],
   "source": [
    "# parsing file with ids for genbank files\n",
    "#type(handles_id_list[0])\n",
    "#handles_id_list"
   ]
  },
  {
   "cell_type": "code",
   "execution_count": 13,
   "metadata": {
    "collapsed": false
   },
   "outputs": [
    {
     "data": {
      "text/plain": [
       "'\\nU00096\\nCP000036\\nCP007045\\nNC_004722\\nNC_011835\\nNC_017096\\nNC_011026\\nNC_019793\\nNC_014836\\nNC_011297\\nNC_010644\\nNC_017448\\nNZ_CP007139\\nNC_012489\\nCP000875\\nNC_004342\\nNC_017934\\nCP007536\\nNZ_CP011801\\nNC_012440\\nNZ_LN515532\\nNC_013517\\nNC_019892\\nNC_015681\\nNC_008312\\nNZ_ABIZ01000001\\n'"
      ]
     },
     "execution_count": 13,
     "metadata": {},
     "output_type": "execute_result"
    }
   ],
   "source": [
    "\"\"\"\n",
    "U00096\n",
    "CP000036\n",
    "CP007045\n",
    "NC_004722\n",
    "NC_011835\n",
    "NC_017096\n",
    "NC_011026\n",
    "NC_019793\n",
    "NC_014836\n",
    "NC_011297\n",
    "NC_010644\n",
    "NC_017448\n",
    "NZ_CP007139\n",
    "NC_012489\n",
    "CP000875\n",
    "NC_004342\n",
    "NC_017934\n",
    "CP007536\n",
    "NZ_CP011801\n",
    "NC_012440\n",
    "NZ_LN515532\n",
    "NC_013517\n",
    "NC_019892\n",
    "NC_015681\n",
    "NC_008312\n",
    "NZ_ABIZ01000001\n",
    "\"\"\""
   ]
  },
  {
   "cell_type": "markdown",
   "metadata": {},
   "source": [
    "# Parsing MultiGenBank "
   ]
  },
  {
   "cell_type": "code",
   "execution_count": 14,
   "metadata": {
    "collapsed": false
   },
   "outputs": [],
   "source": [
    "genbankMultifastaPath = \"/Users/CamilaMV/Desktop/TESIS/Python_Notebooks/Genbank_Multifasta.gb\"\n",
    "\n"
   ]
  },
  {
   "cell_type": "code",
   "execution_count": 15,
   "metadata": {
    "collapsed": false
   },
   "outputs": [],
   "source": [
    "genbankParser = Parsing_genbank_with_SeqIO(genbankMultifastaPath)"
   ]
  },
  {
   "cell_type": "code",
   "execution_count": 16,
   "metadata": {
    "collapsed": false
   },
   "outputs": [
    {
     "name": "stdout",
     "output_type": "stream",
     "text": [
      "4641652\n",
      "4519823\n",
      "4854518\n",
      "2992245\n",
      "5411809\n",
      "7750108\n",
      "6346587\n",
      "8220857\n",
      "1643562\n",
      "3293456\n",
      "1959987\n",
      "1933695\n",
      "1930284\n",
      "4636964\n",
      "4418842\n",
      "4338762\n",
      "2928377\n",
      "2322224\n",
      "1558103\n",
      "3843004\n",
      "2974229\n",
      "3881839\n",
      "9629675\n",
      "2527938\n",
      "2948884\n",
      "5231762\n",
      "2808926\n",
      "4589485\n"
     ]
    }
   ],
   "source": [
    "sorted_list_as_fragmentation = []\n",
    "\n",
    "for geno in genbankParser:\n",
    "    \n",
    "    #print geno.name, geno.description, \n",
    "    \n",
    "    print len(geno.seq)\n",
    "    \n",
    "    sorted_list_as_fragmentation.append(geno.name)\n",
    "    "
   ]
  },
  {
   "cell_type": "code",
   "execution_count": 7,
   "metadata": {
    "collapsed": false
   },
   "outputs": [
    {
     "data": {
      "text/plain": [
       "28"
      ]
     },
     "execution_count": 7,
     "metadata": {},
     "output_type": "execute_result"
    }
   ],
   "source": [
    "len(sorted_list_as_fragmentation)"
   ]
  },
  {
   "cell_type": "code",
   "execution_count": 10,
   "metadata": {
    "collapsed": false
   },
   "outputs": [
    {
     "name": "stdout",
     "output_type": "stream",
     "text": [
      "3 24\n"
     ]
    }
   ],
   "source": [
    "# deleting names that were not fragmented\n",
    "index1 = sorted_list_as_fragmentation.index(\"NC_002754\")\n",
    "index2 = sorted_list_as_fragmentation.index(\"NC_017941\")\n",
    "\n",
    "print index1, index2"
   ]
  },
  {
   "cell_type": "code",
   "execution_count": 13,
   "metadata": {
    "collapsed": false
   },
   "outputs": [],
   "source": [
    "#del(sorted_list_as_fragmentation[index1])\n",
    "#del(sorted_list_as_fragmentation[index2])"
   ]
  },
  {
   "cell_type": "code",
   "execution_count": 12,
   "metadata": {
    "collapsed": false
   },
   "outputs": [
    {
     "data": {
      "text/plain": [
       "26"
      ]
     },
     "execution_count": 12,
     "metadata": {},
     "output_type": "execute_result"
    }
   ],
   "source": [
    "len(sorted_list_as_fragmentation)"
   ]
  },
  {
   "cell_type": "code",
   "execution_count": 14,
   "metadata": {
    "collapsed": false
   },
   "outputs": [
    {
     "data": {
      "text/plain": [
       "['U00096',\n",
       " 'CP000036',\n",
       " 'CP007045',\n",
       " 'NC_004722',\n",
       " 'NC_008312',\n",
       " 'CP000875',\n",
       " 'NZ_ABIZ01000001',\n",
       " 'NC_010644',\n",
       " 'NC_011026',\n",
       " 'NC_011297',\n",
       " 'NC_011835',\n",
       " 'NC_012440',\n",
       " 'NC_012489',\n",
       " 'NC_013517',\n",
       " 'NC_004342',\n",
       " 'NC_014836',\n",
       " 'NC_015681',\n",
       " 'NC_017096',\n",
       " 'NC_017448',\n",
       " 'NC_017934',\n",
       " 'NC_019793',\n",
       " 'NC_019892',\n",
       " 'CP007536',\n",
       " 'NC_017941',\n",
       " 'NZ_LN515532',\n",
       " 'NZ_CP011801']"
      ]
     },
     "execution_count": 14,
     "metadata": {},
     "output_type": "execute_result"
    }
   ],
   "source": [
    "sorted_list_as_fragmentation"
   ]
  },
  {
   "cell_type": "code",
   "execution_count": 7,
   "metadata": {
    "collapsed": false
   },
   "outputs": [],
   "source": [
    "dict_initial_28_procariotes = making_dict_by_geno_from_multiGenbank(genbankParser)"
   ]
  },
  {
   "cell_type": "code",
   "execution_count": 8,
   "metadata": {
    "collapsed": false
   },
   "outputs": [
    {
     "name": "stdout",
     "output_type": "stream",
     "text": [
      "28\n"
     ]
    }
   ],
   "source": [
    "print len(dict_initial_28_procariotes.keys())"
   ]
  },
  {
   "cell_type": "markdown",
   "metadata": {},
   "source": [
    "# Using function getting_moves_list_from_foldersPaths"
   ]
  },
  {
   "cell_type": "code",
   "execution_count": 9,
   "metadata": {
    "collapsed": false
   },
   "outputs": [
    {
     "name": "stdout",
     "output_type": "stream",
     "text": [
      "All folder paths were obtained\n",
      "[2000, 2500, 3000, 3500, 4000, 4500, 5000, 5500, 6000, 6500, 7000, 7500, 8000]\n",
      "[4000, 5000, 6000, 7000, 8000, 9000, 10000, 11000, 12000, 13000, 14000, 15000, 16000]\n"
     ]
    }
   ],
   "source": [
    "#path = \"/Users/CamilaMV/Desktop/TESIS_2016_1/FragmentacionConOverlapping/\"\n",
    "\n",
    "path = \"/Volumes/Mac_HDrive/GENOMES_TO_MAKE_BIGGER_STUDY/28_GENOMES/\"\n",
    "folderPaths = Processing_folder_paths(path)\n",
    "\n",
    "#folderPaths\n",
    "\n",
    "moves_list , cut_list = getting_moves_list_from_foldersPaths(folderPaths)\n",
    "\n",
    "print moves_list\n",
    "print cut_list"
   ]
  },
  {
   "cell_type": "markdown",
   "metadata": {},
   "source": [
    "# Using getting_positions_from_gb_file"
   ]
  },
  {
   "cell_type": "code",
   "execution_count": 10,
   "metadata": {
    "collapsed": false
   },
   "outputs": [
    {
     "name": "stdout",
     "output_type": "stream",
     "text": [
      "The keys of dict_positions_for_each_geno (Bigger Dict) are: CP000875 NC_011835 NC_019793 NC_015681 NC_012489 NC_017934 CP000036 NC_013517 NC_002754 NC_008312 NC_017448 NZ_CP007139 NZ_ABIZ01000001 NC_011297 NC_019892 NZ_CP011801 NC_017096 NC_017941 U00096 NC_004722 NC_011026 NC_010644 CP007536 NC_014836 CP007045 NC_012440 NZ_LN515532 NC_004342\n",
      "The keys of the Smaller Dict are: [2000, 2500, 3000, 3500, 4000, 4500, 5000, 5500, 6000, 6500, 7000, 7500, 8000]\n"
     ]
    }
   ],
   "source": [
    "dict_positions_for_each_geno = getting_positions_from_gb_file(dict_initial_28_procariotes, moves_list)"
   ]
  },
  {
   "cell_type": "code",
   "execution_count": 11,
   "metadata": {
    "collapsed": false
   },
   "outputs": [
    {
     "name": "stdout",
     "output_type": "stream",
     "text": [
      "['CP000875', 'NC_011835', 'NC_019793', 'NC_013517', 'NC_012489', 'NC_017934', 'NC_015681', 'CP000036', 'NC_002754', 'NC_008312', 'NC_017448', 'NZ_CP007139', 'NZ_ABIZ01000001', 'NC_011297', 'NC_019892', 'NZ_CP011801', 'NC_017096', 'NC_017941', 'U00096', 'NC_004722', 'NC_011026', 'NC_010644', 'CP007536', 'NC_014836', 'CP007045', 'NC_012440', 'NZ_LN515532', 'NC_004342']\n",
      "\n",
      "\n",
      "['CP000875', 'NC_011835', 'NC_019793', 'NC_015681', 'NC_012489', 'NC_017934', 'CP000036', 'NC_013517', 'NC_002754', 'NC_008312', 'NC_017448', 'NZ_CP007139', 'NZ_ABIZ01000001', 'NC_011297', 'NC_019892', 'NZ_CP011801', 'NC_017096', 'NC_017941', 'U00096', 'NC_004722', 'NC_011026', 'NC_010644', 'CP007536', 'NC_014836', 'CP007045', 'NC_012440', 'NZ_LN515532', 'NC_004342']\n"
     ]
    }
   ],
   "source": [
    "print dict_initial_28_procariotes.keys()\n",
    "\n",
    "print \"\\n\"\n",
    "\n",
    "print dict_positions_for_each_geno.keys()"
   ]
  },
  {
   "cell_type": "markdown",
   "metadata": {},
   "source": [
    "# Using using_f1_over_all_genos(dict_positions_for_each_geno,5000)"
   ]
  },
  {
   "cell_type": "code",
   "execution_count": 12,
   "metadata": {
    "collapsed": false
   },
   "outputs": [
    {
     "name": "stdout",
     "output_type": "stream",
     "text": [
      "Everything Ok\n",
      "Everything Ok\n",
      "Everything Ok\n",
      "Everything Ok\n",
      "Everything Ok\n",
      "Everything Ok\n",
      "Everything Ok\n",
      "Everything Ok\n",
      "Everything Ok\n",
      "Everything Ok\n",
      "Everything Ok\n",
      "Everything Ok\n",
      "Everything Ok\n",
      "Everything Ok\n",
      "Everything Ok\n",
      "Everything Ok\n",
      "Everything Ok\n",
      "Everything Ok\n",
      "Everything Ok\n",
      "Everything Ok\n",
      "Everything Ok\n",
      "Everything Ok\n",
      "Everything Ok\n",
      "Everything Ok\n",
      "Everything Ok\n",
      "Everything Ok\n",
      "Everything Ok\n",
      "Everything Ok\n"
     ]
    }
   ],
   "source": [
    "#print dict_positions_for_each_geno\n",
    "\n",
    "dict_using_f1_for_all_genos_28_proca_5500 = using_f1_over_all_genos(dict_positions_for_each_geno,5500)"
   ]
  },
  {
   "cell_type": "markdown",
   "metadata": {},
   "source": [
    "# using_f2_for_all_genos after fixing that keys are equal"
   ]
  },
  {
   "cell_type": "code",
   "execution_count": 15,
   "metadata": {
    "collapsed": false
   },
   "outputs": [
    {
     "data": {
      "text/plain": [
       "'\\n## Function 22\\ndef using_f2_for_all_genos(dict_initial,dict_using_f1_for_all_genos):\\n    \\n    dict_using_f2_for_all_genos = {}\\n\\n    set_dict_initial = set(dict_initial)\\n    set_dict_f1 = set(dict_using_f1_for_all_genos)\\n    \\n    ## Looping over dict_initial and dict_using_f1_for_all_genos\\n    for key in set_dict_initial.intersection(set_dict_f1):\\n        \\n            mainObject1 = dict_initial[key]\\n            mainObject2 = dict_using_f1_for_all_genos[key]\\n\\n            # Getting data for function f1 from mainObject1\\n            data_operon_ids = mainObject1[0]\\n\\n            # Getting startData and endData from mainObject1\\n            startData = mainObject1[1]\\n            endData = mainObject1[2]\\n\\n            # Getting finalPosiDefinitive from dict_using_f1_for_all_genos\\n            finalPosiDefinitive = mainObject2\\n\\n            # Using f2\\n            operons_f2Temp, posiDefiFrags_f2Temp = f2_getting_operon_list_with_disposition_and_frags(data_operon_ids,\\n                                                                                                      startData,\\n                                                                                                      endData,\\n                                                                                                      finalPosiDefinitive)\\n\\n            # Getting data for f3 function\\n            count_operon_namesTemp = mainObject1[5]\\n            count_operon_listTemp = mainObject1[6]\\n\\n            # GenoName\\n            genoNameTemp = str(key)\\n\\n            if( len(operons_f2Temp) == 0 or len(operons_f2Temp) != len(posiDefiFrags_f2Temp) ):\\n                print \"There is a problem with dispositions in \" + key\\n\\n                # Inserting lists to dict\\n                dict_using_f2_for_all_genos[key] = (operons_f2Temp,posiDefiFrags_f2Temp,count_operon_namesTemp,\\n                                                        count_operon_listTemp,genoNameTemp)\\n            else:\\n\\n                # Inserting lists to dict\\n                dict_using_f2_for_all_genos[key] = (operons_f2Temp,posiDefiFrags_f2Temp,count_operon_namesTemp,\\n                                                        count_operon_listTemp,genoNameTemp)\\n            \\n\\n    return dict_using_f2_for_all_genos\\n    \\n'"
      ]
     },
     "execution_count": 15,
     "metadata": {},
     "output_type": "execute_result"
    }
   ],
   "source": [
    "\"\"\"\n",
    "## Function 22\n",
    "def using_f2_for_all_genos(dict_initial,dict_using_f1_for_all_genos):\n",
    "    \n",
    "    dict_using_f2_for_all_genos = {}\n",
    "\n",
    "    set_dict_initial = set(dict_initial)\n",
    "    set_dict_f1 = set(dict_using_f1_for_all_genos)\n",
    "    \n",
    "    ## Looping over dict_initial and dict_using_f1_for_all_genos\n",
    "    for key in set_dict_initial.intersection(set_dict_f1):\n",
    "        \n",
    "            mainObject1 = dict_initial[key]\n",
    "            mainObject2 = dict_using_f1_for_all_genos[key]\n",
    "\n",
    "            # Getting data for function f1 from mainObject1\n",
    "            data_operon_ids = mainObject1[0]\n",
    "\n",
    "            # Getting startData and endData from mainObject1\n",
    "            startData = mainObject1[1]\n",
    "            endData = mainObject1[2]\n",
    "\n",
    "            # Getting finalPosiDefinitive from dict_using_f1_for_all_genos\n",
    "            finalPosiDefinitive = mainObject2\n",
    "\n",
    "            # Using f2\n",
    "            operons_f2Temp, posiDefiFrags_f2Temp = f2_getting_operon_list_with_disposition_and_frags(data_operon_ids,\n",
    "                                                                                                      startData,\n",
    "                                                                                                      endData,\n",
    "                                                                                                      finalPosiDefinitive)\n",
    "\n",
    "            # Getting data for f3 function\n",
    "            count_operon_namesTemp = mainObject1[5]\n",
    "            count_operon_listTemp = mainObject1[6]\n",
    "\n",
    "            # GenoName\n",
    "            genoNameTemp = str(key)\n",
    "\n",
    "            if( len(operons_f2Temp) == 0 or len(operons_f2Temp) != len(posiDefiFrags_f2Temp) ):\n",
    "                print \"There is a problem with dispositions in \" + key\n",
    "\n",
    "                # Inserting lists to dict\n",
    "                dict_using_f2_for_all_genos[key] = (operons_f2Temp,posiDefiFrags_f2Temp,count_operon_namesTemp,\n",
    "                                                        count_operon_listTemp,genoNameTemp)\n",
    "            else:\n",
    "\n",
    "                # Inserting lists to dict\n",
    "                dict_using_f2_for_all_genos[key] = (operons_f2Temp,posiDefiFrags_f2Temp,count_operon_namesTemp,\n",
    "                                                        count_operon_listTemp,genoNameTemp)\n",
    "            \n",
    "\n",
    "    return dict_using_f2_for_all_genos\n",
    "    \n",
    "\"\"\""
   ]
  },
  {
   "cell_type": "code",
   "execution_count": 16,
   "metadata": {
    "collapsed": false
   },
   "outputs": [],
   "source": [
    "# NOTES Using f2\n",
    "\n",
    "#There is a problem with dispositions in CP000875\n",
    "#There is a problem with dispositions in NC_019793\n",
    "#There is a problem with dispositions in NC_011835\n",
    "#There is a problem with dispositions in NC_015681\n",
    "#There is a problem with dispositions in NC_002754\n",
    "#There is a problem with dispositions in NC_008312\n",
    "#There is a problem with dispositions in NZ_CP007139\n",
    "#There is a problem with dispositions in NZ_LN515532\n",
    "#There is a problem with dispositions in NC_019892\n",
    "#There is a problem with dispositions in NZ_CP011801\n",
    "#There is a problem with dispositions in NC_010644\n",
    "#There is a problem with dispositions in CP007536\n",
    "#There is a problem with dispositions in NC_004342\n"
   ]
  },
  {
   "cell_type": "code",
   "execution_count": 18,
   "metadata": {
    "collapsed": false,
    "scrolled": false
   },
   "outputs": [
    {
     "name": "stdout",
     "output_type": "stream",
     "text": [
      "There is a problem with dispositions in CP000875\n",
      "There is a problem with dispositions in NC_011835\n",
      "There is a problem with dispositions in NC_019793\n",
      "There is a problem with dispositions in NC_015681\n",
      "There is a problem with dispositions in NC_002754\n",
      "There is a problem with dispositions in NC_008312\n",
      "There is a problem with dispositions in NZ_CP007139\n",
      "There is a problem with dispositions in NZ_LN515532\n",
      "There is a problem with dispositions in NC_019892\n",
      "There is a problem with dispositions in NZ_CP011801\n",
      "There is a problem with dispositions in NC_010644\n",
      "There is a problem with dispositions in CP007536\n",
      "There is a problem with dispositions in CP007045\n",
      "There is a problem with dispositions in NC_004342\n"
     ]
    }
   ],
   "source": [
    "# using f2 over all genos\n",
    "dict_using_f2_for_all_genos_28_proca_5500 = using_f2_for_all_genos_v2(dict_initial_28_procariotes,\n",
    "                                                                 dict_using_f1_for_all_genos_28_proca_5500)"
   ]
  },
  {
   "cell_type": "code",
   "execution_count": 19,
   "metadata": {
    "collapsed": true
   },
   "outputs": [],
   "source": [
    "#del(dict_using_f1_for_all_genos_28_proca_2000,\n",
    "#   dict_using_f2_for_all_genos_28_proca_2000,\n",
    "#   dict_using_f3_for_all_genos_28_proca_2000,\n",
    "#   dict_using_f4_for_all_genos_28_proca_2000)"
   ]
  },
  {
   "cell_type": "code",
   "execution_count": 20,
   "metadata": {
    "collapsed": true
   },
   "outputs": [],
   "source": [
    "#dict_using_f2_for_all_genos_25_proca"
   ]
  },
  {
   "cell_type": "markdown",
   "metadata": {},
   "source": [
    "# Using f3 all 25 proca genos"
   ]
  },
  {
   "cell_type": "code",
   "execution_count": 21,
   "metadata": {
    "collapsed": true
   },
   "outputs": [],
   "source": [
    "dict_using_f3_for_all_genos_28_proca_5500 = using_f3_for_all_genos(dict_using_f2_for_all_genos_28_proca_5500)"
   ]
  },
  {
   "cell_type": "code",
   "execution_count": 22,
   "metadata": {
    "collapsed": false
   },
   "outputs": [],
   "source": [
    "#dict_using_f3_for_all_genos_25_proca"
   ]
  },
  {
   "cell_type": "markdown",
   "metadata": {},
   "source": [
    "# Using f4 all 25 proca genos"
   ]
  },
  {
   "cell_type": "code",
   "execution_count": 23,
   "metadata": {
    "collapsed": false
   },
   "outputs": [],
   "source": [
    "dict_using_f4_for_all_genos_28_proca_5500 = using_f4_for_all_genos(dict_using_f2_for_all_genos_28_proca_5500,\n",
    "                                                              dict_using_f3_for_all_genos_28_proca_5500)"
   ]
  },
  {
   "cell_type": "code",
   "execution_count": 24,
   "metadata": {
    "collapsed": false
   },
   "outputs": [
    {
     "data": {
      "text/plain": [
       "28"
      ]
     },
     "execution_count": 24,
     "metadata": {},
     "output_type": "execute_result"
    }
   ],
   "source": [
    "len(dict_using_f4_for_all_genos_28_proca_5500.keys())"
   ]
  },
  {
   "cell_type": "markdown",
   "metadata": {},
   "source": [
    "# Using complete_list_dfs and multiple_dfs has to be used to generate excel with multiple dataframes"
   ]
  },
  {
   "cell_type": "code",
   "execution_count": 25,
   "metadata": {
    "collapsed": true
   },
   "outputs": [],
   "source": [
    "# Using complete_list_dfs to get list of dfs\n",
    "\n",
    "all_dfs_with_last_properties_28_proca_5500 = complete_list_dfs(dict_using_f4_for_all_genos_28_proca_5500)"
   ]
  },
  {
   "cell_type": "code",
   "execution_count": 26,
   "metadata": {
    "collapsed": false
   },
   "outputs": [
    {
     "data": {
      "text/plain": [
       "'/Users/CamilaMV/Desktop/TESIS/Python_Notebooks'"
      ]
     },
     "execution_count": 26,
     "metadata": {},
     "output_type": "execute_result"
    }
   ],
   "source": [
    "os.getcwd()"
   ]
  },
  {
   "cell_type": "code",
   "execution_count": 27,
   "metadata": {
    "collapsed": false
   },
   "outputs": [],
   "source": [
    "# run function\n",
    "multiple_dfs(all_dfs_with_last_properties_28_proca_5500, '28_Procariotes_5500', '28_Procariotes_5500_V1.xlsx', 1)\n",
    "\n"
   ]
  },
  {
   "cell_type": "markdown",
   "metadata": {},
   "source": [
    "## ======================================================="
   ]
  },
  {
   "cell_type": "code",
   "execution_count": 31,
   "metadata": {
    "collapsed": false
   },
   "outputs": [],
   "source": [
    "# To inspect source code of a function\n",
    "\n",
    "#import inspect\n",
    "\n",
    "#inspect.getsourcelines(f4_doing_data_frame_for_each_geno)"
   ]
  },
  {
   "cell_type": "markdown",
   "metadata": {
    "collapsed": true
   },
   "source": [
    "# Other code"
   ]
  },
  {
   "cell_type": "code",
   "execution_count": null,
   "metadata": {
    "collapsed": true
   },
   "outputs": [],
   "source": [
    "# Getting two loop over two dict when \n",
    "\n",
    "myRDP = { 'Actinobacter': 'GATCGA...TCA', 'subtilus sp.': 'ATCGATT...ACT' }\n",
    "myNames = { 'Actinobacter': '8924342' }\n",
    "\n",
    "rdpSet = set(myRDP)\n",
    "namesSet = set(myNames)\n",
    "\n",
    "for name in rdpSet.intersection(namesSet):\n",
    "    print name, myNames[name]\n"
   ]
  },
  {
   "cell_type": "code",
   "execution_count": 4,
   "metadata": {
    "collapsed": false
   },
   "outputs": [],
   "source": [
    "# Accession id works, returns genbank format, looks in the 'nucleotide' database\n",
    "\n",
    "#handle=Entrez.efetch(db='nucleotide',id='NC_009925',rettype='gb') \n",
    "#record = Entrez.parse(handle)\n",
    "\n",
    "pathFileIds = \"/Users/CamilaMV/Desktop/LIST_IDS_BETTER_STUDY.txt\"\n",
    "file_ids = open(pathFileIds,\"rU\")\n",
    "\n",
    "read_lines_fileIds = file_ids.readlines()"
   ]
  },
  {
   "cell_type": "code",
   "execution_count": 5,
   "metadata": {
    "collapsed": false
   },
   "outputs": [],
   "source": [
    "# making list of ids\n",
    "\n",
    "ids_list = []\n",
    "\n",
    "for fileName in read_lines_fileIds:\n",
    "    \n",
    "    if(not fileName.startswith(\"#\")):\n",
    "        \n",
    "        id_strip = fileName.strip()\n",
    "        ids_list.append(id_strip)"
   ]
  },
  {
   "cell_type": "code",
   "execution_count": 6,
   "metadata": {
    "collapsed": true
   },
   "outputs": [],
   "source": [
    "final_string_ids = \",\".join(ids_list)"
   ]
  },
  {
   "cell_type": "code",
   "execution_count": 7,
   "metadata": {
    "collapsed": false
   },
   "outputs": [
    {
     "data": {
      "text/plain": [
       "'NC_017941.2,CP007536.1,NC_002754.1,NC_004722.1,NC_011835.1,NC_017096.1,NC_011026.1,NC_019793.1,NC_014836.1,NC_011297.1,NC_010644.1,NC_017448.1,NZ_CP007139.1,NC_012489.1,CP000875.1,NC_004342.2,NC_017934.1,NZ_CP011801.1,NC_012440.1,NZ_LN515532.1,NC_013517.1,NC_019892.1,NC_015681.1,NC_008312.1,NZ_ABIZ01000001.1'"
      ]
     },
     "execution_count": 7,
     "metadata": {},
     "output_type": "execute_result"
    }
   ],
   "source": [
    "final_string_ids"
   ]
  },
  {
   "cell_type": "markdown",
   "metadata": {
    "collapsed": true
   },
   "source": [
    "# Other stuff 1"
   ]
  },
  {
   "cell_type": "code",
   "execution_count": 23,
   "metadata": {
    "collapsed": false
   },
   "outputs": [
    {
     "name": "stderr",
     "output_type": "stream",
     "text": [
      "Found 25 GI: 662859273, 647810480, 15896971, 30018278, 219682499, 383787661, 193213720, 429217735, 317050199, 206900094\n"
     ]
    }
   ],
   "source": [
    "db           = \"nuccore\"\n",
    "batchSize    = 100\n",
    "retmax       = 10**9\n",
    "query  = \" \".join(ids_list)\n",
    "handle = Entrez.esearch( db=db,term=query,retmax=retmax )\n",
    "giList = Entrez.read(handle)['IdList']\n",
    "sys.stderr.write( \"Found %s GI: %s\\n\" % (len(giList), \", \".join(giList[:10])))"
   ]
  },
  {
   "cell_type": "code",
   "execution_count": 56,
   "metadata": {
    "collapsed": true
   },
   "outputs": [],
   "source": [
    "#final_string_ids = \",\".join(giList)"
   ]
  },
  {
   "cell_type": "code",
   "execution_count": 57,
   "metadata": {
    "collapsed": true
   },
   "outputs": [],
   "source": [
    "#post NCBI query\n",
    "search_handle     = Entrez.epost(db=db, id=\",\".join(giList))\n",
    "search_results    = Entrez.read(search_handle)\n",
    "webenv,query_key  = search_results[\"WebEnv\"], search_results[\"QueryKey\"] "
   ]
  },
  {
   "cell_type": "code",
   "execution_count": 20,
   "metadata": {
    "collapsed": true
   },
   "outputs": [
    {
     "ename": "NameError",
     "evalue": "name 'giList' is not defined",
     "output_type": "error",
     "traceback": [
      "\u001b[0;31m---------------------------------------------------------------------------\u001b[0m",
      "\u001b[0;31mNameError\u001b[0m                                 Traceback (most recent call last)",
      "\u001b[0;32m<ipython-input-20-55f742c4f041>\u001b[0m in \u001b[0;36m<module>\u001b[0;34m()\u001b[0m\n\u001b[1;32m      3\u001b[0m \u001b[0;31m#webenv,query_key  = search_results[\"WebEnv\"], search_results[\"QueryKey\"]\u001b[0m\u001b[0;34m\u001b[0m\u001b[0;34m\u001b[0m\u001b[0m\n\u001b[1;32m      4\u001b[0m \u001b[0;31m#fecth all results in batch of batchSize entries at once\u001b[0m\u001b[0;34m\u001b[0m\u001b[0;34m\u001b[0m\u001b[0m\n\u001b[0;32m----> 5\u001b[0;31m \u001b[0;32mfor\u001b[0m \u001b[0mstart\u001b[0m \u001b[0;32min\u001b[0m \u001b[0mrange\u001b[0m\u001b[0;34m(\u001b[0m \u001b[0;36m0\u001b[0m\u001b[0;34m,\u001b[0m\u001b[0mlen\u001b[0m\u001b[0;34m(\u001b[0m\u001b[0mgiList\u001b[0m\u001b[0;34m)\u001b[0m\u001b[0;34m,\u001b[0m\u001b[0mbatchSize\u001b[0m \u001b[0;34m)\u001b[0m\u001b[0;34m:\u001b[0m\u001b[0;34m\u001b[0m\u001b[0m\n\u001b[0m\u001b[1;32m      6\u001b[0m   \u001b[0msys\u001b[0m\u001b[0;34m.\u001b[0m\u001b[0mstderr\u001b[0m\u001b[0;34m.\u001b[0m\u001b[0mwrite\u001b[0m\u001b[0;34m(\u001b[0m \u001b[0;34m\" %9i\"\u001b[0m \u001b[0;34m%\u001b[0m \u001b[0;34m(\u001b[0m\u001b[0mstart\u001b[0m\u001b[0;34m+\u001b[0m\u001b[0;36m1\u001b[0m\u001b[0;34m,\u001b[0m\u001b[0;34m)\u001b[0m\u001b[0;34m)\u001b[0m\u001b[0;34m\u001b[0m\u001b[0m\n\u001b[1;32m      7\u001b[0m   \u001b[0;31m#fetch entries in batch\u001b[0m\u001b[0;34m\u001b[0m\u001b[0;34m\u001b[0m\u001b[0m\n",
      "\u001b[0;31mNameError\u001b[0m: name 'giList' is not defined"
     ]
    }
   ],
   "source": [
    "\n",
    "\n",
    "#webenv,query_key  = search_results[\"WebEnv\"], search_results[\"QueryKey\"] \n",
    "#fecth all results in batch of batchSize entries at once\n",
    "for start in range( 0,len(giList),batchSize ):\n",
    "  sys.stderr.write( \" %9i\" % (start+1,))\n",
    "  #fetch entries in batch\n",
    "  handle = Entrez.efetch(db=db, rettype=\"gb\", retstart=start, retmax=batchSize, webenv=webenv, query_key=query_key)\n",
    "  #print output to stdout\n",
    "  sys.stdout.write(handle.read())"
   ]
  },
  {
   "cell_type": "markdown",
   "metadata": {
    "collapsed": true
   },
   "source": [
    "# OTHER STUFF"
   ]
  },
  {
   "cell_type": "code",
   "execution_count": 103,
   "metadata": {
    "collapsed": true
   },
   "outputs": [
    {
     "ename": "IOError",
     "evalue": "[Errno 2] No such file or directory: 'LOCUS       NC_017941            2948884 bp    DNA     circular CON 04-AUG-2015\\n'",
     "output_type": "error",
     "traceback": [
      "\u001b[0;31m---------------------------------------------------------------------------\u001b[0m",
      "\u001b[0;31mIOError\u001b[0m                                   Traceback (most recent call last)",
      "\u001b[0;32m<ipython-input-103-4146d643e159>\u001b[0m in \u001b[0;36m<module>\u001b[0;34m()\u001b[0m\n\u001b[1;32m      1\u001b[0m \u001b[0;32mfor\u001b[0m \u001b[0mgeno\u001b[0m \u001b[0;32min\u001b[0m \u001b[0mhandleTemp\u001b[0m\u001b[0;34m:\u001b[0m\u001b[0;34m\u001b[0m\u001b[0m\n\u001b[1;32m      2\u001b[0m \u001b[0;34m\u001b[0m\u001b[0m\n\u001b[0;32m----> 3\u001b[0;31m     \u001b[0;32mfor\u001b[0m \u001b[0mseq_record\u001b[0m \u001b[0;32min\u001b[0m \u001b[0mSeqIO\u001b[0m\u001b[0;34m.\u001b[0m\u001b[0mparse\u001b[0m\u001b[0;34m(\u001b[0m\u001b[0mgeno\u001b[0m\u001b[0;34m,\u001b[0m\u001b[0;34m\"genbank\"\u001b[0m\u001b[0;34m)\u001b[0m\u001b[0;34m:\u001b[0m\u001b[0;34m\u001b[0m\u001b[0m\n\u001b[0m\u001b[1;32m      4\u001b[0m \u001b[0;34m\u001b[0m\u001b[0m\n\u001b[1;32m      5\u001b[0m         \u001b[0;32mprint\u001b[0m \u001b[0mseq_record\u001b[0m\u001b[0;34m.\u001b[0m\u001b[0mid\u001b[0m\u001b[0;34m\u001b[0m\u001b[0m\n",
      "\u001b[0;32m/Users/CamilaMV/anaconda/lib/python2.7/site-packages/Bio/SeqIO/__init__.pyc\u001b[0m in \u001b[0;36mparse\u001b[0;34m(handle, format, alphabet)\u001b[0m\n\u001b[1;32m    570\u001b[0m         \u001b[0;32mraise\u001b[0m \u001b[0mValueError\u001b[0m\u001b[0;34m(\u001b[0m\u001b[0;34m\"Invalid alphabet, %s\"\u001b[0m \u001b[0;34m%\u001b[0m \u001b[0mrepr\u001b[0m\u001b[0;34m(\u001b[0m\u001b[0malphabet\u001b[0m\u001b[0;34m)\u001b[0m\u001b[0;34m)\u001b[0m\u001b[0;34m\u001b[0m\u001b[0m\n\u001b[1;32m    571\u001b[0m \u001b[0;34m\u001b[0m\u001b[0m\n\u001b[0;32m--> 572\u001b[0;31m     \u001b[0;32mwith\u001b[0m \u001b[0mas_handle\u001b[0m\u001b[0;34m(\u001b[0m\u001b[0mhandle\u001b[0m\u001b[0;34m,\u001b[0m \u001b[0mmode\u001b[0m\u001b[0;34m)\u001b[0m \u001b[0;32mas\u001b[0m \u001b[0mfp\u001b[0m\u001b[0;34m:\u001b[0m\u001b[0;34m\u001b[0m\u001b[0m\n\u001b[0m\u001b[1;32m    573\u001b[0m         \u001b[0;31m# Map the file format to a sequence iterator:\u001b[0m\u001b[0;34m\u001b[0m\u001b[0;34m\u001b[0m\u001b[0m\n\u001b[1;32m    574\u001b[0m         \u001b[0;32mif\u001b[0m \u001b[0mformat\u001b[0m \u001b[0;32min\u001b[0m \u001b[0m_FormatToIterator\u001b[0m\u001b[0;34m:\u001b[0m\u001b[0;34m\u001b[0m\u001b[0m\n",
      "\u001b[0;32m/Users/CamilaMV/anaconda/lib/python2.7/contextlib.pyc\u001b[0m in \u001b[0;36m__enter__\u001b[0;34m(self)\u001b[0m\n\u001b[1;32m     15\u001b[0m     \u001b[0;32mdef\u001b[0m \u001b[0m__enter__\u001b[0m\u001b[0;34m(\u001b[0m\u001b[0mself\u001b[0m\u001b[0;34m)\u001b[0m\u001b[0;34m:\u001b[0m\u001b[0;34m\u001b[0m\u001b[0m\n\u001b[1;32m     16\u001b[0m         \u001b[0;32mtry\u001b[0m\u001b[0;34m:\u001b[0m\u001b[0;34m\u001b[0m\u001b[0m\n\u001b[0;32m---> 17\u001b[0;31m             \u001b[0;32mreturn\u001b[0m \u001b[0mself\u001b[0m\u001b[0;34m.\u001b[0m\u001b[0mgen\u001b[0m\u001b[0;34m.\u001b[0m\u001b[0mnext\u001b[0m\u001b[0;34m(\u001b[0m\u001b[0;34m)\u001b[0m\u001b[0;34m\u001b[0m\u001b[0m\n\u001b[0m\u001b[1;32m     18\u001b[0m         \u001b[0;32mexcept\u001b[0m \u001b[0mStopIteration\u001b[0m\u001b[0;34m:\u001b[0m\u001b[0;34m\u001b[0m\u001b[0m\n\u001b[1;32m     19\u001b[0m             \u001b[0;32mraise\u001b[0m \u001b[0mRuntimeError\u001b[0m\u001b[0;34m(\u001b[0m\u001b[0;34m\"generator didn't yield\"\u001b[0m\u001b[0;34m)\u001b[0m\u001b[0;34m\u001b[0m\u001b[0m\n",
      "\u001b[0;32m/Users/CamilaMV/anaconda/lib/python2.7/site-packages/Bio/File.pyc\u001b[0m in \u001b[0;36mas_handle\u001b[0;34m(handleish, mode, **kwargs)\u001b[0m\n\u001b[1;32m     88\u001b[0m                 \u001b[0;32myield\u001b[0m \u001b[0mfp\u001b[0m\u001b[0;34m\u001b[0m\u001b[0m\n\u001b[1;32m     89\u001b[0m         \u001b[0;32melse\u001b[0m\u001b[0;34m:\u001b[0m\u001b[0;34m\u001b[0m\u001b[0m\n\u001b[0;32m---> 90\u001b[0;31m             \u001b[0;32mwith\u001b[0m \u001b[0mopen\u001b[0m\u001b[0;34m(\u001b[0m\u001b[0mhandleish\u001b[0m\u001b[0;34m,\u001b[0m \u001b[0mmode\u001b[0m\u001b[0;34m,\u001b[0m \u001b[0;34m**\u001b[0m\u001b[0mkwargs\u001b[0m\u001b[0;34m)\u001b[0m \u001b[0;32mas\u001b[0m \u001b[0mfp\u001b[0m\u001b[0;34m:\u001b[0m\u001b[0;34m\u001b[0m\u001b[0m\n\u001b[0m\u001b[1;32m     91\u001b[0m                 \u001b[0;32myield\u001b[0m \u001b[0mfp\u001b[0m\u001b[0;34m\u001b[0m\u001b[0m\n\u001b[1;32m     92\u001b[0m     \u001b[0;32melse\u001b[0m\u001b[0;34m:\u001b[0m\u001b[0;34m\u001b[0m\u001b[0m\n",
      "\u001b[0;31mIOError\u001b[0m: [Errno 2] No such file or directory: 'LOCUS       NC_017941            2948884 bp    DNA     circular CON 04-AUG-2015\\n'"
     ]
    }
   ],
   "source": [
    "#handleTemp  = Entrez.efetch(db=\"nucleotide\",id=final_string_ids,rettype=\"gb\",retmode=\"text\",complexity=0) \n",
    "\n",
    "#records = SeqIO.parse(handleTemp,\"gb\")\n",
    "\n",
    "for record in records:\n",
    "    \n",
    "    print (\"%s, length %i, with %i features\" % (record.name, len(record), len(record.features)))\n",
    "    \n",
    "    for feature in record.features:\n",
    "\n",
    "        if(feature.type == \"rRNA\"):\n",
    "            \n",
    "            start = feature.location.start\n",
    "            end = feature.location.end\n",
    "                    #location = str(start) + \":\" + str(end)\n",
    "            resta = end - start\n",
    "\n",
    "            desc = feature.qualifiers['locus_tag'][0]            \n",
    "            product = feature.qualifiers['product'][0]\n",
    "            \n",
    "            print desc, product, start, end, resta\n",
    "                \n",
    "    \n",
    "    \n",
    "    "
   ]
  },
  {
   "cell_type": "markdown",
   "metadata": {
    "collapsed": true
   },
   "source": [
    "# Other functions auxiliars"
   ]
  },
  {
   "cell_type": "code",
   "execution_count": 32,
   "metadata": {
    "collapsed": true
   },
   "outputs": [],
   "source": [
    "## Auxiliar Function 0.0\n",
    "def unique_list_function(list_sample):\n",
    "    \n",
    "    unique_list = [e for i, e in enumerate(list_sample) if list_sample.index(e) == i]\n",
    "    \n",
    "    return unique_list\n",
    "\n",
    "# Auxiliar Function 0.1\n",
    "def getting_operon_count_in_gb_order(uniqueNamesList,operon_count_names,operon_count_values):\n",
    "    \n",
    "    countOrderedAsUnique = []\n",
    "    \n",
    "    for uniqueName in uniqueNamesList:\n",
    "        \n",
    "        for name , value in itertools.izip(operon_count_names, operon_count_values):\n",
    "            \n",
    "            if(uniqueName == name):\n",
    "                countOrderedAsUnique.append(value)\n",
    "                \n",
    "    return countOrderedAsUnique\n",
    "\n",
    "## Function 0\n",
    "def getting_count_each_operon_2_list(operonNamesTemp):\n",
    "    \n",
    "    uniqueNamesList = unique_list_function(operonNamesTemp)\n",
    "\n",
    "    operon_count_dict = {rna:operonNamesTemp.count(rna) for rna in operonNamesTemp}\n",
    "    operon_count_names = operon_count_dict.keys()\n",
    "    operon_count_values = operon_count_dict.values()\n",
    "    \n",
    "    countOrderedAsUnique = getting_operon_count_in_gb_order(uniqueNamesList,operon_count_names,operon_count_values)\n",
    "\n",
    "    return uniqueNamesList, countOrderedAsUnique\n"
   ]
  },
  {
   "cell_type": "code",
   "execution_count": null,
   "metadata": {
    "collapsed": true
   },
   "outputs": [],
   "source": []
  }
 ],
 "metadata": {
  "kernelspec": {
   "display_name": "Python 2",
   "language": "python",
   "name": "python2"
  },
  "language_info": {
   "codemirror_mode": {
    "name": "ipython",
    "version": 2
   },
   "file_extension": ".py",
   "mimetype": "text/x-python",
   "name": "python",
   "nbconvert_exporter": "python",
   "pygments_lexer": "ipython2",
   "version": "2.7.11"
  }
 },
 "nbformat": 4,
 "nbformat_minor": 0
}
