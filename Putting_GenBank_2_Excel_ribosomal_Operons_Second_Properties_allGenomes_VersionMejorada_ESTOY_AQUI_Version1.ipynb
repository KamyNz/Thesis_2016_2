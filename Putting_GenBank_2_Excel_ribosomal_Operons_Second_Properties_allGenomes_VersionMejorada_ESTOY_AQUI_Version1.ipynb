{
 "cells": [
  {
   "cell_type": "code",
   "execution_count": 75,
   "metadata": {
    "collapsed": true
   },
   "outputs": [],
   "source": [
    "from Bio import SeqIO\n",
    "from Bio.SeqRecord import SeqRecord\n",
    "\n",
    "import os\n",
    "import sys\n",
    "\n",
    "# To write over a excel\n",
    "import openpyxl\n",
    "import xlsxwriter\n",
    "\n",
    "#from Utils import Processing_files_fron_folder, Getting_genbank_files_names\n",
    "import itertools\n",
    "from Utils import *\n",
    "\n",
    "from Bio import GenBank\n",
    "import re\n",
    "\n",
    "from itertools import izip, cycle, tee"
   ]
  },
  {
   "cell_type": "code",
   "execution_count": 76,
   "metadata": {
    "collapsed": true
   },
   "outputs": [],
   "source": [
    "# Importando modules\n",
    "from Bio.SeqIO.FastaIO import FastaIterator\n",
    "\n",
    "from Bio.Blast import NCBIXML\n",
    "from Bio.Blast.Applications import NcbiblastnCommandline\n",
    "\n",
    "import math\n",
    "import numpy as np"
   ]
  },
  {
   "cell_type": "code",
   "execution_count": 77,
   "metadata": {
    "collapsed": false
   },
   "outputs": [],
   "source": [
    "# Chaging directories\n",
    "\n",
    "pathGenoGb= \"/Users/CamilaMV/Desktop/TESIS/GENOMES_TEST/GB_files_just_procariotes/\"\n",
    "\n",
    "files = Processing_files_from_folder(pathGenoGb,4)\n",
    "\n",
    "gb_list, names = Getting_genbank_files_names(files)\n",
    "\n",
    "#gb_list"
   ]
  },
  {
   "cell_type": "code",
   "execution_count": 78,
   "metadata": {
    "collapsed": false
   },
   "outputs": [
    {
     "data": {
      "text/plain": [
       "[<generator object parse at 0x10b7a9370>,\n",
       " <generator object parse at 0x10b7a9280>,\n",
       " <generator object parse at 0x10b7a9500>,\n",
       " <generator object parse at 0x10b7a9410>]"
      ]
     },
     "execution_count": 78,
     "metadata": {},
     "output_type": "execute_result"
    }
   ],
   "source": [
    "gb_generator_list = []\n",
    "\n",
    "for gb in gb_list:\n",
    "    \n",
    "    gene_temp = Parsing_genbank_with_SeqIO(pathGenoGb + gb)\n",
    "    \n",
    "    gb_generator_list.append(gene_temp)\n",
    "\n",
    "gb_generator_list"
   ]
  },
  {
   "cell_type": "code",
   "execution_count": 79,
   "metadata": {
    "collapsed": false
   },
   "outputs": [
    {
     "data": {
      "text/plain": [
       "generator"
      ]
     },
     "execution_count": 79,
     "metadata": {},
     "output_type": "execute_result"
    }
   ],
   "source": [
    "type(gb_generator_list[0])"
   ]
  },
  {
   "cell_type": "markdown",
   "metadata": {},
   "source": [
    "## Getting dict_initial"
   ]
  },
  {
   "cell_type": "code",
   "execution_count": 36,
   "metadata": {
    "collapsed": true
   },
   "outputs": [],
   "source": [
    "dict_initial = making_dict_by_geno(gb_generator_list)"
   ]
  },
  {
   "cell_type": "code",
   "execution_count": 37,
   "metadata": {
    "collapsed": false
   },
   "outputs": [],
   "source": [
    "#print dict_initial['CP007045'] \n",
    "\n",
    "#print \"\\n\"\n",
    "\n",
    "#print dict_initial['NC_022594'] \n",
    "\n",
    "#print \"\\n\"\n"
   ]
  },
  {
   "cell_type": "code",
   "execution_count": 38,
   "metadata": {
    "collapsed": false
   },
   "outputs": [
    {
     "data": {
      "text/plain": [
       "['U00096', 'CP007045', 'CP000036', 'NC_022594']"
      ]
     },
     "execution_count": 38,
     "metadata": {},
     "output_type": "execute_result"
    }
   ],
   "source": [
    "dict_initial.keys()"
   ]
  },
  {
   "cell_type": "code",
   "execution_count": 39,
   "metadata": {
    "collapsed": false
   },
   "outputs": [],
   "source": [
    "#dict_initial\n",
    "\n",
    "# Getting unique GenomesNames for other function\n",
    "\n",
    "uniqueGenoNames = dict_initial.keys()"
   ]
  },
  {
   "cell_type": "markdown",
   "metadata": {},
   "source": [
    "# Parte de Blast para saber donde data mapea y asi sacar posiciones"
   ]
  },
  {
   "cell_type": "code",
   "execution_count": 40,
   "metadata": {
    "collapsed": true
   },
   "outputs": [],
   "source": [
    "#del(pathGenoTest)"
   ]
  },
  {
   "cell_type": "code",
   "execution_count": 41,
   "metadata": {
    "collapsed": false
   },
   "outputs": [
    {
     "data": {
      "text/plain": [
       "['.DS_Store',\n",
       " 'Escherichia_coli.gb',\n",
       " 'Pseudo.gb',\n",
       " 'Rhizobium_leguminosarum_bv_trifolii_WSM1689.gb',\n",
       " 'Shigella_boydii_Sb227.gb']"
      ]
     },
     "execution_count": 41,
     "metadata": {},
     "output_type": "execute_result"
    }
   ],
   "source": [
    "# Chaging directories\n",
    "\n",
    "pathGenoGb= \"/Users/CamilaMV/Desktop/TESIS/GENOMES_TEST/GB_files_just_procariotes/\"\n",
    "\n",
    "files = Processing_files_from_folder(pathGenoGb,4)\n",
    "\n",
    "files"
   ]
  },
  {
   "cell_type": "code",
   "execution_count": 42,
   "metadata": {
    "collapsed": true
   },
   "outputs": [],
   "source": [
    "\n",
    "#pathOperons = \"/Users/CamilaMV/Desktop/TESIS/GENOMES_TEST/Operon_files/\"\n",
    "#filesOperons = Processing_files_from_folder(pathOperons,6)\n"
   ]
  },
  {
   "cell_type": "code",
   "execution_count": 43,
   "metadata": {
    "collapsed": true
   },
   "outputs": [],
   "source": [
    "# Esto era para el blast\n",
    "#operon_list, names = Getting_files_path_by_extension(filesOperons,\".operon\")\n",
    "\n",
    "# Esta era para el blast\n",
    "\n",
    "#fasta_files, names_fasta = Getting_files_path_by_extension(files,\".fna\")\n"
   ]
  },
  {
   "cell_type": "markdown",
   "metadata": {},
   "source": [
    "# Getting pixel number for each operon from Excel file"
   ]
  },
  {
   "cell_type": "code",
   "execution_count": 44,
   "metadata": {
    "collapsed": false
   },
   "outputs": [],
   "source": [
    "path = \"/Users/CamilaMV/Desktop/TESIS_2016_1/FragmentacionConOverlapping/\"\n",
    "\n",
    "#pathTest = \"/Users/CamilaMV/Desktop/Test1/\""
   ]
  },
  {
   "cell_type": "code",
   "execution_count": 45,
   "metadata": {
    "collapsed": false
   },
   "outputs": [
    {
     "name": "stdout",
     "output_type": "stream",
     "text": [
      "All folder paths were obtained\n"
     ]
    }
   ],
   "source": [
    "folderPaths = Processing_folder_paths(path)\n",
    "\n",
    "#folderPaths"
   ]
  },
  {
   "cell_type": "code",
   "execution_count": 46,
   "metadata": {
    "collapsed": false
   },
   "outputs": [],
   "source": [
    "#folderPathsTest = Processing_folder_paths(pathTest)"
   ]
  },
  {
   "cell_type": "code",
   "execution_count": 47,
   "metadata": {
    "collapsed": false
   },
   "outputs": [
    {
     "name": "stdout",
     "output_type": "stream",
     "text": [
      "[2000, 2500, 3000, 3500, 4000, 4500, 5000, 5500, 6000, 6500, 7000, 7500, 8000]\n",
      "[4000, 5000, 6000, 7000, 8000, 9000, 10000, 11000, 12000, 13000, 14000, 15000, 16000]\n"
     ]
    }
   ],
   "source": [
    "moves_list , cut_list = getting_moves_list_from_foldersPaths(folderPaths)\n",
    "\n",
    "print moves_list\n",
    "\n",
    "print cut_list"
   ]
  },
  {
   "cell_type": "code",
   "execution_count": 48,
   "metadata": {
    "collapsed": false
   },
   "outputs": [],
   "source": [
    "#dict_operations_for_single_move = doing_operations_for_single_move(moves_list, startPositions, endPositions)"
   ]
  },
  {
   "cell_type": "code",
   "execution_count": 49,
   "metadata": {
    "collapsed": false
   },
   "outputs": [
    {
     "data": {
      "text/plain": [
       "['U00096', 'CP007045', 'CP000036', 'NC_022594']"
      ]
     },
     "execution_count": 49,
     "metadata": {},
     "output_type": "execute_result"
    }
   ],
   "source": [
    "dict_initial.keys()\n",
    "\n",
    "# the disposition of the rRNA are 16S -- 23S -- 5S "
   ]
  },
  {
   "cell_type": "code",
   "execution_count": 50,
   "metadata": {
    "collapsed": false
   },
   "outputs": [],
   "source": [
    "#dict_initial"
   ]
  },
  {
   "cell_type": "markdown",
   "metadata": {},
   "source": [
    "# Doing getting positions from gb with dict"
   ]
  },
  {
   "cell_type": "code",
   "execution_count": 51,
   "metadata": {
    "collapsed": false
   },
   "outputs": [
    {
     "data": {
      "text/plain": [
       "'\\ndef getting_positions_from_gb_file(dict_inital, moves_list):\\n    \\n    dict_positions_for_each_geno = {}\\n    \\n    for key in dict_inital:\\n        \\n        #print key\\n        \\n        startPositions = dict_inital[key][1]\\n        #print startPositions\\n        \\n        endPositions = dict_inital[key][2]\\n        #print endPositions\\n\\n        dictOperationsTemp = doing_operations_for_single_move(moves_list,startPositions,endPositions)\\n        dict_positions_for_each_geno[key] = dictOperationsTemp\\n        #print \"\\n\"\\n    \\n    mssg1 = \"The keys of dict_positions_for_each_geno (Bigger Dict) are: \" + \\' \\'.join(dict_positions_for_each_geno.keys())\\n    mssg2 = \"The keys of the Smaller Dict are: \" + \\'\\'.join(str(moves_list))\\n    \\n    print mssg1\\n    print mssg2\\n    \\n    return dict_positions_for_each_geno\\n'"
      ]
     },
     "execution_count": 51,
     "metadata": {},
     "output_type": "execute_result"
    }
   ],
   "source": [
    "# Este todavia no VA A Utils.py => porque se le podrian hacer otras operaciones\n",
    "\n",
    "\"\"\"\n",
    "def getting_positions_from_gb_file(dict_inital, moves_list):\n",
    "    \n",
    "    dict_positions_for_each_geno = {}\n",
    "    \n",
    "    for key in dict_inital:\n",
    "        \n",
    "        #print key\n",
    "        \n",
    "        startPositions = dict_inital[key][1]\n",
    "        #print startPositions\n",
    "        \n",
    "        endPositions = dict_inital[key][2]\n",
    "        #print endPositions\n",
    "\n",
    "        dictOperationsTemp = doing_operations_for_single_move(moves_list,startPositions,endPositions)\n",
    "        dict_positions_for_each_geno[key] = dictOperationsTemp\n",
    "        #print \"\\n\"\n",
    "    \n",
    "    mssg1 = \"The keys of dict_positions_for_each_geno (Bigger Dict) are: \" + ' '.join(dict_positions_for_each_geno.keys())\n",
    "    mssg2 = \"The keys of the Smaller Dict are: \" + ''.join(str(moves_list))\n",
    "    \n",
    "    print mssg1\n",
    "    print mssg2\n",
    "    \n",
    "    return dict_positions_for_each_geno\n",
    "\"\"\""
   ]
  },
  {
   "cell_type": "code",
   "execution_count": 52,
   "metadata": {
    "collapsed": false
   },
   "outputs": [
    {
     "name": "stdout",
     "output_type": "stream",
     "text": [
      "The keys of dict_positions_for_each_geno (Bigger Dict) are: U00096 CP007045 CP000036 NC_022594\n",
      "The keys of the Smaller Dict are: [2000, 2500, 3000, 3500, 4000, 4500, 5000, 5500, 6000, 6500, 7000, 7500, 8000]\n"
     ]
    }
   ],
   "source": [
    "dict_positions_for_each_geno = getting_positions_from_gb_file(dict_initial, moves_list)"
   ]
  },
  {
   "cell_type": "code",
   "execution_count": 53,
   "metadata": {
    "collapsed": false
   },
   "outputs": [
    {
     "data": {
      "text/plain": [
       "['U00096', 'CP007045', 'CP000036', 'NC_022594']"
      ]
     },
     "execution_count": 53,
     "metadata": {},
     "output_type": "execute_result"
    }
   ],
   "source": [
    "dict_positions_for_each_geno.keys()"
   ]
  },
  {
   "cell_type": "markdown",
   "metadata": {
    "collapsed": true
   },
   "source": [
    "# Putting results of fragmentation and overlaping in excel"
   ]
  },
  {
   "cell_type": "code",
   "execution_count": 54,
   "metadata": {
    "collapsed": false
   },
   "outputs": [],
   "source": [
    "#and all(x in orden_standard for x in ordenTempList) )"
   ]
  },
  {
   "cell_type": "markdown",
   "metadata": {},
   "source": [
    "# Using f1 with several genos"
   ]
  },
  {
   "cell_type": "code",
   "execution_count": 55,
   "metadata": {
    "collapsed": false
   },
   "outputs": [
    {
     "name": "stdout",
     "output_type": "stream",
     "text": [
      "Everything Ok\n",
      "Everything Ok\n",
      "Everything Ok\n",
      "Everything Ok\n"
     ]
    }
   ],
   "source": [
    "dict_using_f1_for_all_genos = using_f1_over_all_genos(dict_positions_for_each_geno,5000)"
   ]
  },
  {
   "cell_type": "code",
   "execution_count": 56,
   "metadata": {
    "collapsed": false
   },
   "outputs": [],
   "source": [
    "#dict_using_f1_for_all_genos"
   ]
  },
  {
   "cell_type": "code",
   "execution_count": null,
   "metadata": {
    "collapsed": false
   },
   "outputs": [],
   "source": []
  },
  {
   "cell_type": "markdown",
   "metadata": {},
   "source": [
    "# Getting numbers of operons"
   ]
  },
  {
   "cell_type": "code",
   "execution_count": 57,
   "metadata": {
    "collapsed": false
   },
   "outputs": [
    {
     "name": "stdout",
     "output_type": "stream",
     "text": [
      "['U00096', 'CP007045', 'CP000036', 'NC_022594']\n",
      "\n",
      "\n",
      "['U00096', 'CP007045', 'CP000036', 'NC_022594']\n"
     ]
    }
   ],
   "source": [
    "print dict_initial.keys()\n",
    "\n",
    "print \"\\n\"\n",
    "\n",
    "print dict_positions_for_each_geno.keys()"
   ]
  },
  {
   "cell_type": "code",
   "execution_count": 58,
   "metadata": {
    "collapsed": false
   },
   "outputs": [],
   "source": [
    "#operonNumberList,final_posiFrag = f3_getting_final_posiFrag_after_mean_operation_for_each_geno(list_posiDefiFrags_f2)"
   ]
  },
  {
   "cell_type": "code",
   "execution_count": 59,
   "metadata": {
    "collapsed": false
   },
   "outputs": [],
   "source": [
    "#print operonNumberList\n",
    "\n",
    "#print \"\\n\"\n",
    "\n",
    "#print final_posiFrag"
   ]
  },
  {
   "cell_type": "markdown",
   "metadata": {},
   "source": [
    "# Using f2 for all genos"
   ]
  },
  {
   "cell_type": "code",
   "execution_count": 60,
   "metadata": {
    "collapsed": true
   },
   "outputs": [],
   "source": [
    "#del(dict_using_f2_and_f3_for_all_genos)"
   ]
  },
  {
   "cell_type": "code",
   "execution_count": 61,
   "metadata": {
    "collapsed": false
   },
   "outputs": [
    {
     "name": "stdout",
     "output_type": "stream",
     "text": [
      "There was a problem giving disposition of subunits\n",
      "There was a problem giving disposition of subunits\n",
      "There was a problem giving disposition of subunits\n",
      "There was a problem giving disposition of subunits\n",
      "There was a problem giving disposition of subunits\n",
      "There was a problem giving disposition of subunits\n",
      "There is a problem with dispositions in CP007045\n"
     ]
    }
   ],
   "source": [
    "# using f2 over all genos\n",
    "dict_using_f2_for_all_genos = using_f2_for_all_genos(dict_initial,dict_using_f1_for_all_genos)"
   ]
  },
  {
   "cell_type": "code",
   "execution_count": 80,
   "metadata": {
    "collapsed": false
   },
   "outputs": [],
   "source": [
    "#dict_using_f2_for_all_genos"
   ]
  },
  {
   "cell_type": "markdown",
   "metadata": {},
   "source": [
    "# Using f3 for all genos"
   ]
  },
  {
   "cell_type": "code",
   "execution_count": 63,
   "metadata": {
    "collapsed": true
   },
   "outputs": [],
   "source": [
    "dict_using_f3_for_all_genos = using_f3_for_all_genos(dict_using_f2_for_all_genos)"
   ]
  },
  {
   "cell_type": "code",
   "execution_count": 64,
   "metadata": {
    "collapsed": false
   },
   "outputs": [
    {
     "data": {
      "text/plain": [
       "{'CP000036': ([1, 2, 3, 4, 5, 6, 7], [42, 525, 654, 758, 778, 805, 813]),\n",
       " 'CP007045': ([1, 2, 3, 4, 5, 6], [715, 716, 795, 796, 900, 901]),\n",
       " 'NC_022594': ([1, 2, 3, 4], [144, 957, 1052, 1207]),\n",
       " 'U00096': ([1, 2, 3, 4, 5, 6, 7], [45, 545, 684, 788, 807, 833, 841])}"
      ]
     },
     "execution_count": 64,
     "metadata": {},
     "output_type": "execute_result"
    }
   ],
   "source": [
    "dict_using_f3_for_all_genos"
   ]
  },
  {
   "cell_type": "markdown",
   "metadata": {},
   "source": [
    "# Using  f4 for all genos"
   ]
  },
  {
   "cell_type": "code",
   "execution_count": 81,
   "metadata": {
    "collapsed": false
   },
   "outputs": [],
   "source": [
    "#dict_using_f2_for_all_genos"
   ]
  },
  {
   "cell_type": "code",
   "execution_count": 66,
   "metadata": {
    "collapsed": false
   },
   "outputs": [
    {
     "data": {
      "text/plain": [
       "{'CP000036': ([1, 2, 3, 4, 5, 6, 7], [42, 525, 654, 758, 778, 805, 813]),\n",
       " 'CP007045': ([1, 2, 3, 4, 5, 6], [715, 716, 795, 796, 900, 901]),\n",
       " 'NC_022594': ([1, 2, 3, 4], [144, 957, 1052, 1207]),\n",
       " 'U00096': ([1, 2, 3, 4, 5, 6, 7], [45, 545, 684, 788, 807, 833, 841])}"
      ]
     },
     "execution_count": 66,
     "metadata": {},
     "output_type": "execute_result"
    }
   ],
   "source": [
    "dict_using_f3_for_all_genos"
   ]
  },
  {
   "cell_type": "code",
   "execution_count": 67,
   "metadata": {
    "collapsed": false
   },
   "outputs": [],
   "source": [
    "# testing using_f4_for_all_genos\n",
    "\n",
    "dict_using_f4_for_all_genos = using_f4_for_all_genos(dict_using_f2_for_all_genos,dict_using_f3_for_all_genos)"
   ]
  },
  {
   "cell_type": "code",
   "execution_count": 68,
   "metadata": {
    "collapsed": false
   },
   "outputs": [],
   "source": [
    "#dict_using_f4_for_all_genos"
   ]
  },
  {
   "cell_type": "markdown",
   "metadata": {},
   "source": [
    "# Using complete_list_dfs and multiple_dfs has to be used to generate excel with multiple dataframes"
   ]
  },
  {
   "cell_type": "code",
   "execution_count": 69,
   "metadata": {
    "collapsed": true
   },
   "outputs": [],
   "source": [
    "# Using complete_list_dfs to get list of dfs\n",
    "all_dfs_with_last_properties = complete_list_dfs(dict_using_f4_for_all_genos)"
   ]
  },
  {
   "cell_type": "code",
   "execution_count": 74,
   "metadata": {
    "collapsed": false
   },
   "outputs": [
    {
     "data": {
      "text/plain": [
       "'/Users/CamilaMV/Desktop/TESIS/Python_Notebooks'"
      ]
     },
     "execution_count": 74,
     "metadata": {},
     "output_type": "execute_result"
    }
   ],
   "source": [
    "os.getcwd()"
   ]
  },
  {
   "cell_type": "code",
   "execution_count": 70,
   "metadata": {
    "collapsed": false
   },
   "outputs": [],
   "source": [
    "# Putting dataframes in excel file\n",
    "os.getcwd()\n",
    "\n",
    "# run function\n",
    "multiple_dfs(all_dfs_with_last_properties, '4_Procariotes', '4_Procariotes_V2.xlsx', 1)\n"
   ]
  },
  {
   "cell_type": "code",
   "execution_count": null,
   "metadata": {
    "collapsed": true
   },
   "outputs": [],
   "source": []
  },
  {
   "cell_type": "code",
   "execution_count": null,
   "metadata": {
    "collapsed": true
   },
   "outputs": [],
   "source": []
  },
  {
   "cell_type": "markdown",
   "metadata": {},
   "source": [
    "# Other functions"
   ]
  },
  {
   "cell_type": "code",
   "execution_count": 71,
   "metadata": {
    "collapsed": true
   },
   "outputs": [],
   "source": [
    "def pairwise(seq):\n",
    "    a , b = tee(seq)\n",
    "    next(b)\n",
    "    return izip(a,b)"
   ]
  },
  {
   "cell_type": "code",
   "execution_count": 72,
   "metadata": {
    "collapsed": false
   },
   "outputs": [
    {
     "ename": "NameError",
     "evalue": "name 'startData' is not defined",
     "output_type": "error",
     "traceback": [
      "\u001b[0;31m---------------------------------------------------------------------------\u001b[0m",
      "\u001b[0;31mNameError\u001b[0m                                 Traceback (most recent call last)",
      "\u001b[0;32m<ipython-input-72-4fc9212fc362>\u001b[0m in \u001b[0;36m<module>\u001b[0;34m()\u001b[0m\n\u001b[0;32m----> 1\u001b[0;31m \u001b[0mpairwiseStarData\u001b[0m \u001b[0;34m=\u001b[0m \u001b[0mpairwise\u001b[0m\u001b[0;34m(\u001b[0m\u001b[0mcycle\u001b[0m\u001b[0;34m(\u001b[0m\u001b[0mstartData\u001b[0m\u001b[0;34m)\u001b[0m\u001b[0;34m)\u001b[0m\u001b[0;34m\u001b[0m\u001b[0m\n\u001b[0m",
      "\u001b[0;31mNameError\u001b[0m: name 'startData' is not defined"
     ]
    }
   ],
   "source": [
    "pairwiseStarData = pairwise(cycle(startData))"
   ]
  },
  {
   "cell_type": "code",
   "execution_count": null,
   "metadata": {
    "collapsed": false
   },
   "outputs": [],
   "source": [
    "nextElementList = []\n",
    "\n",
    "for element, nextEle in pairwiseStarData:\n",
    "    \n",
    "    #print nextEle\n",
    "    \n",
    "    nextElementList.append(nextEle)\n",
    "    \n",
    "    if(int(nextEle) == 4071443):\n",
    "        break\n",
    "\n"
   ]
  },
  {
   "cell_type": "code",
   "execution_count": null,
   "metadata": {
    "collapsed": true
   },
   "outputs": [],
   "source": [
    "numberGenos = 1000000/8"
   ]
  },
  {
   "cell_type": "code",
   "execution_count": 73,
   "metadata": {
    "collapsed": false
   },
   "outputs": [
    {
     "ename": "NameError",
     "evalue": "name 'numberGenos' is not defined",
     "output_type": "error",
     "traceback": [
      "\u001b[0;31m---------------------------------------------------------------------------\u001b[0m",
      "\u001b[0;31mNameError\u001b[0m                                 Traceback (most recent call last)",
      "\u001b[0;32m<ipython-input-73-cc7f8ba4fae7>\u001b[0m in \u001b[0;36m<module>\u001b[0;34m()\u001b[0m\n\u001b[0;32m----> 1\u001b[0;31m \u001b[0mnumberGenos\u001b[0m\u001b[0;34m\u001b[0m\u001b[0m\n\u001b[0m",
      "\u001b[0;31mNameError\u001b[0m: name 'numberGenos' is not defined"
     ]
    }
   ],
   "source": [
    "numberGenos"
   ]
  },
  {
   "cell_type": "code",
   "execution_count": null,
   "metadata": {
    "collapsed": true
   },
   "outputs": [],
   "source": []
  },
  {
   "cell_type": "code",
   "execution_count": null,
   "metadata": {
    "collapsed": true
   },
   "outputs": [],
   "source": []
  },
  {
   "cell_type": "code",
   "execution_count": null,
   "metadata": {
    "collapsed": true
   },
   "outputs": [],
   "source": []
  },
  {
   "cell_type": "code",
   "execution_count": null,
   "metadata": {
    "collapsed": true
   },
   "outputs": [],
   "source": []
  }
 ],
 "metadata": {
  "kernelspec": {
   "display_name": "Python 2",
   "language": "python",
   "name": "python2"
  },
  "language_info": {
   "codemirror_mode": {
    "name": "ipython",
    "version": 2
   },
   "file_extension": ".py",
   "mimetype": "text/x-python",
   "name": "python",
   "nbconvert_exporter": "python",
   "pygments_lexer": "ipython2",
   "version": "2.7.11"
  }
 },
 "nbformat": 4,
 "nbformat_minor": 0
}
