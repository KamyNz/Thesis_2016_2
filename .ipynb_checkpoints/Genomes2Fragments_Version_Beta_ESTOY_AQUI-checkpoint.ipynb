{
 "cells": [
  {
   "cell_type": "code",
   "execution_count": 1,
   "metadata": {
    "collapsed": true
   },
   "outputs": [],
   "source": [
    "# Importing all the neede \n",
    "import os\n",
    "import itertools\n",
    "import numpy as np\n",
    "\n",
    "from Utils import *\n"
   ]
  },
  {
   "cell_type": "code",
   "execution_count": 2,
   "metadata": {
    "collapsed": false
   },
   "outputs": [
    {
     "name": "stdout",
     "output_type": "stream",
     "text": [
      "/Users/CamilaMV/Downloads/Genomas_colores/\n"
     ]
    }
   ],
   "source": [
    "# pathNameFolder\n",
    "pathNameFolder = \"/Volumes/Mac_HDrive/GENOMES_TO_MAKE_BIGGER_STUDY/25_GENOMES/\"\n",
    "\n",
    "pathNameFolderJenny = \"/Users/CamilaMV/Downloads/Genomas_colores/\"\n",
    "\n",
    "pathNameFolder2 = \"/Volumes/Mac_HDrive/GENOMES_TO_MAKE_BIGGER_STUDY/GENOMES_IN_FASTA/\"\n",
    "\n",
    "# DEBERIA HACERSE QUE EL SCRIPT DE PYTHON PREGUNTE POR EL FOLDER DONDE ESTAN LOS GENOMAS\n",
    "print pathNameFolderJenny"
   ]
  },
  {
   "cell_type": "code",
   "execution_count": 3,
   "metadata": {
    "collapsed": false
   },
   "outputs": [
    {
     "name": "stdout",
     "output_type": "stream",
     "text": [
      "/Users/CamilaMV/Downloads/Genomas_colores/\n"
     ]
    }
   ],
   "source": [
    "print pathNameFolderJenny"
   ]
  },
  {
   "cell_type": "code",
   "execution_count": 5,
   "metadata": {
    "collapsed": false
   },
   "outputs": [
    {
     "name": "stdout",
     "output_type": "stream",
     "text": [
      "['2362_nt.split.3Kmer.1Koverlap.f_rename', '2362_nt.split.3Kmer.1Koverlap.fasta', 'B1-CDA_nt.split.3Kmer.1Koverlap.fasta', 'C3-41_nt.split.3Kmer.1Koverlap.f_rename', 'C3-41_nt.split.3Kmer.1Koverlap.fasta', 'CBAM5_nt.split.3Kmer.1Koverlap.fasta', 'III37_nt.split.3Kmer.1Koverlap.fasta', 'Ot4b.25_nt.split.3Kmer.1Koverlap.f_rename', 'Ot4b.25_nt.split.3Kmer.1Koverlap.fasta', 'Ot4b.31_nt.split.3Kmer.1Koverlap.fasta', 'Ot4b.49_nt.split.3Kmer.1Koverlap.f_rename', 'Ot4b.49_nt.split.3Kmer.1Koverlap.fasta', 'RB-21.split.3Kmer.1Koverlap.fasta', 'Silvestris.split.3Kmer.1Koverlap.fasta']\n"
     ]
    }
   ],
   "source": [
    "genosListaPath = Processing_files_from_folder(pathNameFolderJenny)\n",
    "\n",
    "print genosListaPath"
   ]
  },
  {
   "cell_type": "code",
   "execution_count": 6,
   "metadata": {
    "collapsed": false
   },
   "outputs": [],
   "source": [
    "genosListaPath = Getting_files_path_by_extension(genosListaPath,\".fasta\")[0]"
   ]
  },
  {
   "cell_type": "code",
   "execution_count": 7,
   "metadata": {
    "collapsed": true
   },
   "outputs": [],
   "source": [
    "#index_to_remove = genosListaPath.index('._Trichodesmium_erythraeum_IMS101_CROMO_1.fasta')\n",
    "#del(genosListaPath[index_to_remove])"
   ]
  },
  {
   "cell_type": "code",
   "execution_count": 8,
   "metadata": {
    "collapsed": false
   },
   "outputs": [
    {
     "name": "stdout",
     "output_type": "stream",
     "text": [
      "['2362_nt.split.3Kmer.1Koverlap.fasta', 'B1-CDA_nt.split.3Kmer.1Koverlap.fasta', 'C3-41_nt.split.3Kmer.1Koverlap.fasta', 'CBAM5_nt.split.3Kmer.1Koverlap.fasta', 'III37_nt.split.3Kmer.1Koverlap.fasta', 'Ot4b.25_nt.split.3Kmer.1Koverlap.fasta', 'Ot4b.31_nt.split.3Kmer.1Koverlap.fasta', 'Ot4b.49_nt.split.3Kmer.1Koverlap.fasta', 'RB-21.split.3Kmer.1Koverlap.fasta', 'Silvestris.split.3Kmer.1Koverlap.fasta']\n",
      "()\n",
      "10\n"
     ]
    }
   ],
   "source": [
    "print genosListaPath\n",
    "\n",
    "print ()\n",
    "\n",
    "print len(genosListaPath)"
   ]
  },
  {
   "cell_type": "markdown",
   "metadata": {},
   "source": [
    "# Getting list_of_window_size_AND_overlappin"
   ]
  },
  {
   "cell_type": "code",
   "execution_count": 26,
   "metadata": {
    "collapsed": false
   },
   "outputs": [],
   "source": [
    "# Making function to decide what are the parameters\n",
    "# To cut and overlapping\n",
    "\n",
    "def making_list_of_window_size_AND_overlapping(begin, end, jump):\n",
    "\n",
    "    # Note: I have to search if jump has to be integer\n",
    "    listaNumbersEnteros = list(range(begin, end, jump))\n",
    "\n",
    "    listaNumbersEnterosBig = []\n",
    "    listOverlapsGenos = []\n",
    "\n",
    "    for n in listaNumbersEnteros:\n",
    "\n",
    "        entero = (n*1000)\n",
    "        over = int(0.10*(entero))\n",
    "        listaNumbersEnterosBig.append(entero)\n",
    "        listOverlapsGenos.append(over)\n",
    "    \n",
    "    return(listaNumbersEnterosBig,listOverlapsGenos)"
   ]
  },
  {
   "cell_type": "code",
   "execution_count": 27,
   "metadata": {
    "collapsed": false
   },
   "outputs": [],
   "source": [
    "listaNumbersEnteros, listOverlapsGenos = making_list_of_window_size_AND_overlapping(4,9,1)"
   ]
  },
  {
   "cell_type": "code",
   "execution_count": 28,
   "metadata": {
    "collapsed": false
   },
   "outputs": [
    {
     "name": "stdout",
     "output_type": "stream",
     "text": [
      "[4000, 5000, 6000, 7000, 8000]\n",
      "[400, 500, 600, 700, 800]\n"
     ]
    }
   ],
   "source": [
    "print listaNumbersEnteros\n",
    "\n",
    "print listOverlapsGenos"
   ]
  },
  {
   "cell_type": "markdown",
   "metadata": {},
   "source": [
    "# Fragmentation for Jenny Genos"
   ]
  },
  {
   "cell_type": "code",
   "execution_count": 29,
   "metadata": {
    "collapsed": true
   },
   "outputs": [],
   "source": [
    "#list_fragmentation_Jenny = [3000] * 11\n",
    "\n",
    "#list_overlaps_Jenyy = [1000] * 11"
   ]
  },
  {
   "cell_type": "code",
   "execution_count": 30,
   "metadata": {
    "collapsed": false
   },
   "outputs": [],
   "source": [
    "#print list_fragmentation\n",
    "#del(list_fragmentation)"
   ]
  },
  {
   "cell_type": "code",
   "execution_count": 31,
   "metadata": {
    "collapsed": false
   },
   "outputs": [
    {
     "name": "stdout",
     "output_type": "stream",
     "text": [
      "/Users/CamilaMV/Desktop/TESIS/Python_Notebooks\n"
     ]
    }
   ],
   "source": [
    "# Haciendo lista de extensiones\n",
    "#list_exts=['.fna8Kmer..split'] *6\n",
    "\n",
    "# Se podrian hacer la listas de extensiones rapidas\n",
    "#list_exts\n",
    "\n",
    "print os.getcwd()"
   ]
  },
  {
   "cell_type": "markdown",
   "metadata": {},
   "source": [
    "# PART 1"
   ]
  },
  {
   "cell_type": "markdown",
   "metadata": {},
   "source": [
    "## Splitting genomes with overlaping using pyfasta"
   ]
  },
  {
   "cell_type": "code",
   "execution_count": 32,
   "metadata": {
    "collapsed": true
   },
   "outputs": [],
   "source": [
    "def splitting_genos_according_to_input_data(genosListaPath,listaNumbersEnteros,listOverlapsGenos,pathNameFolder):\n",
    "    \n",
    "    # Changing directory\n",
    "    os.chdir(pathNameFolder)\n",
    "    \n",
    "    # Splitting genomes and making directories\n",
    "    for geno in genosListaPath:\n",
    "        \n",
    "        for f, o in itertools.izip(listaNumbersEnteros,listOverlapsGenos):\n",
    "            \n",
    "            cmd = 'pyfasta split -n 1 -k '+ str(f) +' -o ' + str(o) + ' ' + geno\n",
    "            os.system(cmd)\n",
    "\n",
    "            # Making directories\n",
    "    \n",
    "            genoFragName = str(f)\n",
    "            genoOverLapName = str(o)\n",
    "        \n",
    "        os.system(\"mkdir Genos_\"+genoFragName+\"_\"+genoOverLapName+\"/\")\n",
    "            "
   ]
  },
  {
   "cell_type": "code",
   "execution_count": 36,
   "metadata": {
    "collapsed": false
   },
   "outputs": [
    {
     "name": "stdout",
     "output_type": "stream",
     "text": [
      "/Users/CamilaMV/Downloads/Genomas_colores/\n"
     ]
    }
   ],
   "source": [
    "print pathNameFolderJenny"
   ]
  },
  {
   "cell_type": "code",
   "execution_count": 37,
   "metadata": {
    "collapsed": false
   },
   "outputs": [],
   "source": [
    "# testing splitting_genos_according_to_input_data\n",
    "splitting_genos_according_to_input_data(genosListaPath,listaNumbersEnteros,listOverlapsGenos,pathNameFolderJenny)\n"
   ]
  },
  {
   "cell_type": "code",
   "execution_count": 34,
   "metadata": {
    "collapsed": false
   },
   "outputs": [
    {
     "name": "stdout",
     "output_type": "stream",
     "text": [
      "/Users/CamilaMV/Desktop/TESIS/Python_Notebooks\n"
     ]
    }
   ],
   "source": [
    "print os.getcwd()\n"
   ]
  },
  {
   "cell_type": "markdown",
   "metadata": {},
   "source": [
    "# Getting data fragmented for Jenny Genomes"
   ]
  },
  {
   "cell_type": "code",
   "execution_count": 25,
   "metadata": {
    "collapsed": false
   },
   "outputs": [],
   "source": [
    "#splitting_genos_according_to_input_data(genosListaPath,list_fragmentation_Jenny,list_overlaps_Jenyy,pathNameFolderJenny)"
   ]
  },
  {
   "cell_type": "code",
   "execution_count": 22,
   "metadata": {
    "collapsed": false
   },
   "outputs": [],
   "source": [
    "# Making preinitial list of splits\n",
    "lista_preinitial_splits = [\n",
    "\"split.1Kmer.100overlap\",\n",
    "\"split.2Kmer.200overlap\",\n",
    "\"split.3Kmer.300overlap\"\n",
    "]"
   ]
  },
  {
   "cell_type": "code",
   "execution_count": 28,
   "metadata": {
    "collapsed": false
   },
   "outputs": [],
   "source": [
    "#list_exts"
   ]
  },
  {
   "cell_type": "code",
   "execution_count": 19,
   "metadata": {
    "collapsed": false
   },
   "outputs": [],
   "source": [
    "os.chdir(pathNameFolderJenny +\"/\")"
   ]
  },
  {
   "cell_type": "code",
   "execution_count": 20,
   "metadata": {
    "collapsed": false
   },
   "outputs": [
    {
     "name": "stdout",
     "output_type": "stream",
     "text": [
      "/Users/CamilaMV/Downloads/Genomas_colores\n"
     ]
    }
   ],
   "source": [
    "print os.getcwd()"
   ]
  },
  {
   "cell_type": "markdown",
   "metadata": {},
   "source": [
    "# Splitting again 25 genomes"
   ]
  },
  {
   "cell_type": "code",
   "execution_count": 21,
   "metadata": {
    "collapsed": true
   },
   "outputs": [],
   "source": [
    "splitting_genos_according_to_input_data(genosListaPath,listaNumbersEnteros,listOverlapsGenos,pathNameFolderJenny)"
   ]
  },
  {
   "cell_type": "markdown",
   "metadata": {},
   "source": [
    "## Function for moving files after splitting with overlaping"
   ]
  },
  {
   "cell_type": "code",
   "execution_count": 23,
   "metadata": {
    "collapsed": true
   },
   "outputs": [],
   "source": [
    "def moving_splited_files_with_overlapping_to_folder(list_exts,listaNumbersEnterosBig,listOverlapsGenos):\n",
    "    \n",
    "    \n",
    "    # Moving             \n",
    "    for ext, f,o in itertools.izip(list_exts,listaNumbersEnterosBig,listOverlapsGenos):\n",
    "\n",
    "        genoFragName = str(f)\n",
    "        genoOverLapName = str(o)\n",
    "        \n",
    "        # Moving files\n",
    "        os.system(\"mv \"+ \"*\" + ext +\" Genos_\"+genoFragName+\"_\"+genoOverLapName+\"/\")\n",
    "\n",
    "    # Telling user where the splited genos are\n",
    "    \n",
    "    print str(len(list_exts)) + \" genomes were moved and are located in: \" + os.getcwd() + \"\\n\"    \n",
    "    \n",
    "    print \"For the following extensions: \" + ','.join(list_exts)"
   ]
  },
  {
   "cell_type": "code",
   "execution_count": 24,
   "metadata": {
    "collapsed": false
   },
   "outputs": [
    {
     "name": "stdout",
     "output_type": "stream",
     "text": [
      "3 genomes were moved and are located in: /Users/CamilaMV/Downloads/Genomas_colores\n",
      "\n",
      "For the following extensions: split.1Kmer.100overlap,split.2Kmer.200overlap,split.3Kmer.300overlap\n"
     ]
    }
   ],
   "source": [
    "moving_splited_files_with_overlapping_to_folder(lista_preinitial_splits,listaNumbersEnteros,listOverlapsGenos)"
   ]
  },
  {
   "cell_type": "code",
   "execution_count": null,
   "metadata": {
    "collapsed": true
   },
   "outputs": [],
   "source": []
  },
  {
   "cell_type": "markdown",
   "metadata": {},
   "source": [
    "# ==============================="
   ]
  },
  {
   "cell_type": "markdown",
   "metadata": {},
   "source": [
    "# PART 2"
   ]
  },
  {
   "cell_type": "code",
   "execution_count": null,
   "metadata": {
    "collapsed": true
   },
   "outputs": [],
   "source": [
    "for fasta in genosListaPath:\n",
    "    \n",
    "    tempFasta = Parsing_fasta(pathNameFolder2 + fasta)\n",
    "    \n",
    "    print fasta\n",
    "    \n",
    "    #for f in tempFasta:\n",
    "        \n",
    "        #Filling length list\n",
    "        #print f.id, len(f.seq)\n",
    "        # Printing length and description"
   ]
  },
  {
   "cell_type": "code",
   "execution_count": null,
   "metadata": {
    "collapsed": true
   },
   "outputs": [],
   "source": [
    "# Haloferax mediterranei ATCC 33500_CROMO_1.fasta gi|662859273|ref|NC_017941.2| 2948884\n",
    "# Leptospira_interrogans_serovar_Lai_str._56601_CROMO_1.fasta gi|294827553|ref|NC_004342.2| 4338762\n",
    "# Sulfolobus solfataricus P2_CROMO_1.fasta gi|15896971|ref|NC_002754.1| 2992245"
   ]
  },
  {
   "cell_type": "markdown",
   "metadata": {
    "collapsed": true
   },
   "source": [
    "# Hacer esto funcion para cuando no hay sobrelapamiento"
   ]
  },
  {
   "cell_type": "code",
   "execution_count": null,
   "metadata": {
    "collapsed": true
   },
   "outputs": [],
   "source": [
    "# In[25]:\n",
    "\n",
    "# Haciendo fragmentacion sin sobrelapamiento\n",
    "\n",
    "for g in genosListaPath:\n",
    "    \n",
    "    geno = g\n",
    "    \n",
    "    for f in listaFragmentation:\n",
    "\n",
    "            cmd = 'pyfasta split -n 1 -k '+ str(f) + ' ' + g\n",
    "            os.system(cmd)\n",
    "\n",
    "            #print f, o\n",
    "    \n",
    "            genoFragName = str(f)\n",
    "            #genoOverLapName = str(o)\n",
    "        \n",
    "            os.system(\"mkdir Genos_\"+genoFragName+\"/\")\n",
    "    \n",
    "for ext, f in itertools.izip(list_exts,listaFragmentation):\n",
    "    \n",
    "    #print ext, f ,o\n",
    "    \n",
    "    genoFragName = str(f)\n",
    "    #genoOverLapName = str(o)\n",
    "        \n",
    "    os.system(\"mv \"+ \"*\" + ext +\" Genos_\"+genoFragName+\"/\")"
   ]
  }
 ],
 "metadata": {
  "kernelspec": {
   "display_name": "Python 2",
   "language": "python",
   "name": "python2"
  },
  "language_info": {
   "codemirror_mode": {
    "name": "ipython",
    "version": 2
   },
   "file_extension": ".py",
   "mimetype": "text/x-python",
   "name": "python",
   "nbconvert_exporter": "python",
   "pygments_lexer": "ipython2",
   "version": "2.7.11"
  }
 },
 "nbformat": 4,
 "nbformat_minor": 0
}
