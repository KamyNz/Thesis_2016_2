{
 "cells": [
  {
   "cell_type": "code",
   "execution_count": 1,
   "metadata": {
    "collapsed": false
   },
   "outputs": [
    {
     "ename": "SyntaxError",
     "evalue": "invalid syntax (<ipython-input-1-3f3cb0ca4e6f>, line 7)",
     "output_type": "error",
     "traceback": [
      "\u001b[0;36m  File \u001b[0;32m\"<ipython-input-1-3f3cb0ca4e6f>\"\u001b[0;36m, line \u001b[0;32m7\u001b[0m\n\u001b[0;31m    from ../Utils import *\u001b[0m\n\u001b[0m           ^\u001b[0m\n\u001b[0;31mSyntaxError\u001b[0m\u001b[0;31m:\u001b[0m invalid syntax\n"
     ]
    }
   ],
   "source": [
    "# Importing all the neede \n",
    "import os\n",
    "import itertools\n",
    "import numpy as np\n",
    "\n",
    "\n",
    "from Utils import *"
   ]
  },
  {
   "cell_type": "code",
   "execution_count": 17,
   "metadata": {
    "collapsed": false
   },
   "outputs": [
    {
     "data": {
      "text/plain": [
       "'/Users/CamilaMV/Desktop/sortmernaFiles/Genos_7000_700/FastaFiles'"
      ]
     },
     "execution_count": 17,
     "metadata": {},
     "output_type": "execute_result"
    }
   ],
   "source": [
    "# Knowing what is the current directory\n",
    "os.getcwd()"
   ]
  },
  {
   "cell_type": "code",
   "execution_count": 18,
   "metadata": {
    "collapsed": false
   },
   "outputs": [
    {
     "name": "stdout",
     "output_type": "stream",
     "text": [
      "Where are the files (PATH): \"/Users/CamilaMV/Desktop/sortmernaFiles/Genos_8000_800/FastaFiles/\"\n"
     ]
    }
   ],
   "source": [
    "# Change the directory\n",
    "directoryName1 = input(\"Where are the files (PATH): \")\n",
    "#directoryName2 = input(\"Where are the files (PATH): \")\n",
    "#directoryName3 = input(\"Where are the files (PATH): \")"
   ]
  },
  {
   "cell_type": "code",
   "execution_count": 19,
   "metadata": {
    "collapsed": false
   },
   "outputs": [],
   "source": [
    "# Calling sortmerna\n",
    "os.chdir(directoryName1)"
   ]
  },
  {
   "cell_type": "code",
   "execution_count": 20,
   "metadata": {
    "collapsed": false
   },
   "outputs": [
    {
     "data": {
      "text/plain": [
       "'/Users/CamilaMV/Desktop/sortmernaFiles/Genos_8000_800/FastaFiles'"
      ]
     },
     "execution_count": 20,
     "metadata": {},
     "output_type": "execute_result"
    }
   ],
   "source": [
    "# Knowing if the directory has been changed\n",
    "os.getcwd()"
   ]
  },
  {
   "cell_type": "markdown",
   "metadata": {},
   "source": [
    "# Folder where the fastas are"
   ]
  },
  {
   "cell_type": "code",
   "execution_count": 21,
   "metadata": {
    "collapsed": false
   },
   "outputs": [],
   "source": [
    "# Path of the folder\n",
    "#pathFolder = input(\"Folder of the fasta files renamed: \")"
   ]
  },
  {
   "cell_type": "code",
   "execution_count": 22,
   "metadata": {
    "collapsed": false
   },
   "outputs": [
    {
     "name": "stdout",
     "output_type": "stream",
     "text": [
      "*.fastaN\n"
     ]
    }
   ],
   "source": [
    "print pathFolder"
   ]
  },
  {
   "cell_type": "markdown",
   "metadata": {},
   "source": [
    "#  Making functions"
   ]
  },
  {
   "cell_type": "code",
   "execution_count": 23,
   "metadata": {
    "collapsed": true
   },
   "outputs": [],
   "source": [
    "# Function to execute 16s\n",
    "def executing_16s(pathFolder):\n",
    "    \n",
    "    putting_nohup_command1 = \"nohup /Users/CamilaMV/sortmerna-2.1b/sortmerna --ref ../../databaseSortmeRNA/rRNA_databases/silva-bac-16s-id90.fasta,../../databaseSortmeRNA/index/silva-bac-16s-db\"\n",
    "    putting_nohup_command2 = \" --reads $f --aligned $f.16s --blast '1 qcov' --fastx --log; done &\"\n",
    "    \n",
    "    cmd1 = \"for f in \" + pathFolder +\";\"\n",
    "    cmd2 = \"do \"+putting_nohup_command1 + putting_nohup_command2\n",
    "    os.system(cmd1 + cmd2)\n",
    "\n",
    "# Function to execute 23s\n",
    "def executing_23s(pathFolder2):\n",
    "    \n",
    "    putting_nohup_command1 = \"nohup /Users/CamilaMV/sortmerna-2.1b/sortmerna --ref ../../databaseSortmeRNA/rRNA_databases/silva-bac-23s-id98.fasta,../../databaseSortmeRNA/index/silva-bac-23s-db\"\n",
    "    putting_nohup_command2 = \" --reads $f --aligned $f.23s --blast '1 qcov' --fastx --log; done &\"\n",
    "    \n",
    "    cmd1 = \"for f in \" + pathFolder +\";\"\n",
    "    cmd2 = \"do \"+putting_nohup_command1 + putting_nohup_command2\n",
    "    os.system(cmd1 + cmd2)\n",
    "    \n",
    "# Function to execute 5s\n",
    "def executing_5s(pathFolder3):\n",
    "\n",
    "    putting_nohup_command1 = \"nohup /Users/CamilaMV/sortmerna-2.1b/sortmerna --ref ../../databaseSortmeRNA/rRNA_databases/rfam-5s-database-id98.fasta,../../databaseSortmeRNA/index/rfam-5s-db\"\n",
    "    putting_nohup_command2 = \" --reads $f --aligned $f.5s --blast '1 qcov' --fastx --log; done &\"\n",
    "    \n",
    "    cmd1 = \"for f in \" + pathFolder +\";\"\n",
    "    cmd2 = \"do \"+putting_nohup_command1 + putting_nohup_command2\n",
    "    os.system(cmd1 + cmd2)\n"
   ]
  },
  {
   "cell_type": "code",
   "execution_count": 24,
   "metadata": {
    "collapsed": false
   },
   "outputs": [],
   "source": [
    "# Testing the functions"
   ]
  },
  {
   "cell_type": "code",
   "execution_count": 25,
   "metadata": {
    "collapsed": true
   },
   "outputs": [],
   "source": [
    "# Using function 16s\n",
    "executing_16s(pathFolder)"
   ]
  },
  {
   "cell_type": "code",
   "execution_count": 26,
   "metadata": {
    "collapsed": true
   },
   "outputs": [],
   "source": [
    "# Using function 23s\n",
    "executing_23s(pathFolder)"
   ]
  },
  {
   "cell_type": "code",
   "execution_count": 27,
   "metadata": {
    "collapsed": true
   },
   "outputs": [],
   "source": [
    "# Using function 5s\n",
    "executing_5s(pathFolder)"
   ]
  },
  {
   "cell_type": "code",
   "execution_count": 10,
   "metadata": {
    "collapsed": true
   },
   "outputs": [],
   "source": [
    "# Putting the folder where to execute sortmerna\n",
    "\n",
    "#putting_nohup_command1 = \"nohup /Users/CamilaMV/sortmerna-2.1b/sortmerna --ref ../../databaseSortmeRNA/rRNA_databases/rfam-5s-database-id98.fasta,../../databaseSortmeRNA/index/rfam-5s-db\"\n",
    "#putting_nohup_command2 = \" --reads $f --aligned $f.out --blast '1 qcov' --fastx --log; done &\"\n",
    "    "
   ]
  },
  {
   "cell_type": "code",
   "execution_count": 11,
   "metadata": {
    "collapsed": false
   },
   "outputs": [
    {
     "data": {
      "text/plain": [
       "0"
      ]
     },
     "execution_count": 11,
     "metadata": {},
     "output_type": "execute_result"
    }
   ],
   "source": [
    "#cmd1 = \"for f in \" + pathFolder  +\";\"\n",
    "#cmd2 = \"do \"+putting_nohup_command1 + putting_nohup_command2\n",
    "#os.system(cmd1 + cmd2)\n"
   ]
  },
  {
   "cell_type": "code",
   "execution_count": 17,
   "metadata": {
    "collapsed": false
   },
   "outputs": [
    {
     "data": {
      "text/plain": [
       "'/Users/CamilaMV/Desktop/sortmernaFiles/Genos_3000_1000/Results_5s_Test2'"
      ]
     },
     "execution_count": 17,
     "metadata": {},
     "output_type": "execute_result"
    }
   ],
   "source": [
    "os.getcwd()"
   ]
  },
  {
   "cell_type": "code",
   "execution_count": null,
   "metadata": {
    "collapsed": true
   },
   "outputs": [],
   "source": []
  }
 ],
 "metadata": {
  "kernelspec": {
   "display_name": "Python 2",
   "language": "python",
   "name": "python2"
  },
  "language_info": {
   "codemirror_mode": {
    "name": "ipython",
    "version": 2
   },
   "file_extension": ".py",
   "mimetype": "text/x-python",
   "name": "python",
   "nbconvert_exporter": "python",
   "pygments_lexer": "ipython2",
   "version": "2.7.11"
  }
 },
 "nbformat": 4,
 "nbformat_minor": 0
}
