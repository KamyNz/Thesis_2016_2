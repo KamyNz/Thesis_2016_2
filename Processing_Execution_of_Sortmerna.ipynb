{
 "cells": [
  {
   "cell_type": "code",
   "execution_count": 1,
   "metadata": {
    "collapsed": false
   },
   "outputs": [],
   "source": [
    "# Importing all the neede \n",
    "import os\n",
    "import itertools\n",
    "import numpy as np\n",
    "\n",
    "\n",
    "%run ../Utils.py"
   ]
  },
  {
   "cell_type": "code",
   "execution_count": 2,
   "metadata": {
    "collapsed": false
   },
   "outputs": [
    {
     "data": {
      "text/plain": [
       "'/Users/CamilaMV/Desktop/TESIS/Python_Notebooks/Tesis_2016_2'"
      ]
     },
     "execution_count": 2,
     "metadata": {},
     "output_type": "execute_result"
    }
   ],
   "source": [
    "# Knowing what is the current directory\n",
    "os.getcwd()"
   ]
  },
  {
   "cell_type": "code",
   "execution_count": 5,
   "metadata": {
    "collapsed": false
   },
   "outputs": [
    {
     "name": "stdout",
     "output_type": "stream",
     "text": [
      "Where are the files (PATH): '/Users/CamilaMV/Desktop/sortmernaFiles/Genos_8000_800/FastaFiles'\n"
     ]
    }
   ],
   "source": [
    "# Change the directory\n",
    "directoryName1 = input(\"Where are the files (PATH): \")\n",
    "#directoryName2 = input(\"Where are the files (PATH): \")\n",
    "#directoryName3 = input(\"Where are the files (PATH): \")"
   ]
  },
  {
   "cell_type": "code",
   "execution_count": 6,
   "metadata": {
    "collapsed": false
   },
   "outputs": [],
   "source": [
    "# Calling sortmerna\n",
    "os.chdir(directoryName1)"
   ]
  },
  {
   "cell_type": "code",
   "execution_count": 7,
   "metadata": {
    "collapsed": false
   },
   "outputs": [
    {
     "data": {
      "text/plain": [
       "'/Users/CamilaMV/Desktop/sortmernaFiles/Genos_8000_800/FastaFiles'"
      ]
     },
     "execution_count": 7,
     "metadata": {},
     "output_type": "execute_result"
    }
   ],
   "source": [
    "# Knowing if the directory has been changed\n",
    "os.getcwd()"
   ]
  },
  {
   "cell_type": "markdown",
   "metadata": {},
   "source": [
    "# Folder where the fastas are"
   ]
  },
  {
   "cell_type": "code",
   "execution_count": 9,
   "metadata": {
    "collapsed": false
   },
   "outputs": [
    {
     "name": "stdout",
     "output_type": "stream",
     "text": [
      "Folder of the fasta files renamed: \"*.fasta\"\n"
     ]
    }
   ],
   "source": [
    "# Path of the folder\n",
    "pathFolder = input(\"Folder of the fasta files renamed: \")"
   ]
  },
  {
   "cell_type": "code",
   "execution_count": 10,
   "metadata": {
    "collapsed": false
   },
   "outputs": [
    {
     "name": "stdout",
     "output_type": "stream",
     "text": [
      "*.fasta\n"
     ]
    }
   ],
   "source": [
    "print pathFolder"
   ]
  },
  {
   "cell_type": "markdown",
   "metadata": {},
   "source": [
    "#  Making functions"
   ]
  },
  {
   "cell_type": "code",
   "execution_count": 23,
   "metadata": {
    "collapsed": true
   },
   "outputs": [],
   "source": [
    "# Function to execute 16s\n",
    "def executing_16s(pathFolder):\n",
    "    \n",
    "    putting_nohup_command1 = \"nohup /Users/CamilaMV/sortmerna-2.1b/sortmerna --ref ../../databaseSortmeRNA/rRNA_databases/silva-bac-16s-id90.fasta,../../databaseSortmeRNA/index/silva-bac-16s-db\"\n",
    "    putting_nohup_command2 = \" --reads $f --aligned $f.16s --blast '1 qcov' --fastx --log; done &\"\n",
    "    \n",
    "    cmd1 = \"for f in \" + pathFolder +\";\"\n",
    "    cmd2 = \"do \"+putting_nohup_command1 + putting_nohup_command2\n",
    "    os.system(cmd1 + cmd2)\n",
    "\n",
    "# Function to execute 23s\n",
    "def executing_23s(pathFolder2):\n",
    "    \n",
    "    putting_nohup_command1 = \"nohup /Users/CamilaMV/sortmerna-2.1b/sortmerna --ref ../../databaseSortmeRNA/rRNA_databases/silva-bac-23s-id98.fasta,../../databaseSortmeRNA/index/silva-bac-23s-db\"\n",
    "    putting_nohup_command2 = \" --reads $f --aligned $f.23s --blast '1 qcov' --fastx --log; done &\"\n",
    "    \n",
    "    cmd1 = \"for f in \" + pathFolder +\";\"\n",
    "    cmd2 = \"do \"+putting_nohup_command1 + putting_nohup_command2\n",
    "    os.system(cmd1 + cmd2)\n",
    "    \n",
    "# Function to execute 5s\n",
    "def executing_5s(pathFolder3):\n",
    "\n",
    "    putting_nohup_command1 = \"nohup /Users/CamilaMV/sortmerna-2.1b/sortmerna --ref ../../databaseSortmeRNA/rRNA_databases/rfam-5s-database-id98.fasta,../../databaseSortmeRNA/index/rfam-5s-db\"\n",
    "    putting_nohup_command2 = \" --reads $f --aligned $f.5s --blast '1 qcov' --fastx --log; done &\"\n",
    "    \n",
    "    cmd1 = \"for f in \" + pathFolder +\";\"\n",
    "    cmd2 = \"do \"+putting_nohup_command1 + putting_nohup_command2\n",
    "    os.system(cmd1 + cmd2)\n"
   ]
  },
  {
   "cell_type": "code",
   "execution_count": 24,
   "metadata": {
    "collapsed": false
   },
   "outputs": [],
   "source": [
    "# Testing the functions"
   ]
  },
  {
   "cell_type": "code",
   "execution_count": 25,
   "metadata": {
    "collapsed": true
   },
   "outputs": [],
   "source": [
    "# Using function 16s\n",
    "executing_16s(pathFolder)"
   ]
  },
  {
   "cell_type": "code",
   "execution_count": 26,
   "metadata": {
    "collapsed": true
   },
   "outputs": [],
   "source": [
    "# Using function 23s\n",
    "executing_23s(pathFolder)"
   ]
  },
  {
   "cell_type": "code",
   "execution_count": 27,
   "metadata": {
    "collapsed": true
   },
   "outputs": [],
   "source": [
    "# Using function 5s\n",
    "executing_5s(pathFolder)"
   ]
  },
  {
   "cell_type": "code",
   "execution_count": 10,
   "metadata": {
    "collapsed": true
   },
   "outputs": [],
   "source": [
    "# Putting the folder where to execute sortmerna\n",
    "\n",
    "#putting_nohup_command1 = \"nohup /Users/CamilaMV/sortmerna-2.1b/sortmerna --ref ../../databaseSortmeRNA/rRNA_databases/rfam-5s-database-id98.fasta,../../databaseSortmeRNA/index/rfam-5s-db\"\n",
    "#putting_nohup_command2 = \" --reads $f --aligned $f.out --blast '1 qcov' --fastx --log; done &\"\n",
    "    "
   ]
  },
  {
   "cell_type": "code",
   "execution_count": 11,
   "metadata": {
    "collapsed": false
   },
   "outputs": [
    {
     "data": {
      "text/plain": [
       "0"
      ]
     },
     "execution_count": 11,
     "metadata": {},
     "output_type": "execute_result"
    }
   ],
   "source": [
    "#cmd1 = \"for f in \" + pathFolder  +\";\"\n",
    "#cmd2 = \"do \"+putting_nohup_command1 + putting_nohup_command2\n",
    "#os.system(cmd1 + cmd2)\n"
   ]
  },
  {
   "cell_type": "code",
   "execution_count": 17,
   "metadata": {
    "collapsed": false
   },
   "outputs": [
    {
     "data": {
      "text/plain": [
       "'/Users/CamilaMV/Desktop/sortmernaFiles/Genos_3000_1000/Results_5s_Test2'"
      ]
     },
     "execution_count": 17,
     "metadata": {},
     "output_type": "execute_result"
    }
   ],
   "source": [
    "os.getcwd()"
   ]
  },
  {
   "cell_type": "code",
   "execution_count": 4,
   "metadata": {
    "collapsed": true
   },
   "outputs": [],
   "source": [
    "# Making dataframe for excel\n",
    "\n",
    "## Function 12\n",
    "def dict_list_of_dfs_all_genos(dict_initial,dict_map4):\n",
    "    \n",
    "    # importing pandas\n",
    "    import pandas as pd\n",
    "    from pandas import DataFrame\n",
    "    \n",
    "    # dict to put dataframe\n",
    "    dict_df_of_each_geno = {}\n",
    "    \n",
    "    # Doing loop to get all lists of each geno\n",
    "    for key_initial, key_map4 in itertools.izip(dict_initial,dict_map4):\n",
    "        \n",
    "        #main objecto from dict initial\n",
    "        mainObjectFromInitial = dict_initial[key_initial]\n",
    "        \n",
    "        #Creating lists of each aspect from dict_initial\n",
    "        product_list = mainObjectFromInitial[0]\n",
    "        start_list = mainObjectFromInitial[1]\n",
    "        end_list = mainObjectFromInitial[2]\n",
    "        strand_list = mainObjectFromInitial[3]\n",
    "        substraction_list = mainObjectFromInitial[4]\n",
    "        \n",
    "        #main objecto from dict initial\n",
    "        mainObjectFromMap4 = dict_map4[key_map4]\n",
    "        \n",
    "        #Creating lists of each aspect from dictMap4\n",
    "        list_start_map_geno = mainObjectFromMap4[0]\n",
    "        list_end_map_geno = mainObjectFromMap4[1]\n",
    "        list_substract_geno = mainObjectFromMap4[2]\n",
    "        \n",
    "\n",
    "        #creating temp columns \n",
    "        dColumnsTemp = {\n",
    "\n",
    "            '1_Product' : product_list,\n",
    "            '2_Start': start_list,\n",
    "            '3_End': end_list,\n",
    "            '4_Substraction': substraction_list,\n",
    "            '5_Strand_dir' : strand_list,\n",
    "            '6_Start_in_geno': list_start_map_geno,\n",
    "            '7_End_in_geno': list_end_map_geno,\n",
    "            '8_Substract_GenoPosi': list_substract_geno\n",
    "\n",
    "        }\n",
    "        \n",
    "        dfTemp = pd.DataFrame(dColumnsTemp)\n",
    "        \n",
    "        alert_message_lenght_operon = \"\"\n",
    "        \n",
    "        if(len(mainObjectFromInitial[5]) == len(mainObjectFromInitial[6])):\n",
    "\n",
    "            additionalTemp = pd.DataFrame({'8_Operon_names' : mainObjectFromInitial[5],\n",
    "                                       '9_NumberofSubunitsbyOperon' : mainObjectFromInitial[6]})\n",
    "\n",
    "            newTemp = pd.concat([dfTemp,additionalTemp], axis=1)\n",
    "            alert_message_lenght_operon = \"It was possible to add aditional columns: OperonNames and NumberSubunits for \" + key_initial \n",
    "        else:\n",
    "            newTemp = dfTemp\n",
    "            alert_message_lenght_operon = \"It was not possible to add additional columns for \" + key_initial\n",
    "            \n",
    "        \n",
    "        key_initial_list = key_initial.split()\n",
    "        \n",
    "        #adding geno name\n",
    "        additionalName = pd.DataFrame({'0_GenoName' : key_initial_list})\n",
    "        newTemp2 = pd.concat([newTemp,additionalName],axis=1)\n",
    "        \n",
    "        dict_df_of_each_geno[key_initial] = newTemp2\n",
    "        print alert_message_lenght_operon\n",
    "        \n",
    "    return dict_df_of_each_geno"
   ]
  },
  {
   "cell_type": "code",
   "execution_count": null,
   "metadata": {
    "collapsed": true
   },
   "outputs": [],
   "source": []
  }
 ],
 "metadata": {
  "kernelspec": {
   "display_name": "Python 2",
   "language": "python",
   "name": "python2"
  },
  "language_info": {
   "codemirror_mode": {
    "name": "ipython",
    "version": 2
   },
   "file_extension": ".py",
   "mimetype": "text/x-python",
   "name": "python",
   "nbconvert_exporter": "python",
   "pygments_lexer": "ipython2",
   "version": "2.7.11"
  }
 },
 "nbformat": 4,
 "nbformat_minor": 0
}
